{
 "cells": [
  {
   "cell_type": "code",
   "execution_count": 10,
   "id": "fe351e62-9cbf-4bf6-b3ab-259f696723cf",
   "metadata": {},
   "outputs": [
    {
     "name": "stdout",
     "output_type": "stream",
     "text": [
      "Output = True\n"
     ]
    }
   ],
   "source": [
    "# 1st answer : arrays assignment\n",
    "\n",
    "def duplicate(arr):\n",
    "    x = set()\n",
    "    for item in arr:\n",
    "        if item in x:\n",
    "            return True\n",
    "        x.add(item)\n",
    "    \n",
    "    return False\n",
    "\n",
    "\n",
    "\n",
    "arr = [1, 2, 4, 2, 5, 9]\n",
    "output = duplicate(arr)\n",
    "print(\"Output =\", output)\n"
   ]
  },
  {
   "cell_type": "code",
   "execution_count": 9,
   "metadata": {},
   "outputs": [
    {
     "name": "stdout",
     "output_type": "stream",
     "text": [
      "Output = [5, 6, 7, 1, 2, 3, 4]\n"
     ]
    }
   ],
   "source": [
    "# 2nd answer: arrays assignment\n",
    "def rotatearray(arr, k):\n",
    "    l = len(arr) #length of the array\n",
    "    k = k%l #taking modulus to divide into equal sets of arrays\n",
    "    newArray = arr[-k:] + arr[:-k]\n",
    "    return newArray\n",
    "\n",
    "# driver code\n",
    "arr = [1, 2, 3, 4, 5, 6, 7]\n",
    "k = 3\n",
    "print(\"Output =\",rotatearray(arr, k))\n"
   ]
  },
  {
   "cell_type": "code",
   "execution_count": 11,
   "id": "f93b3753-530c-4708-ab89-619e9812ca01",
   "metadata": {},
   "outputs": [
    {
     "name": "stdout",
     "output_type": "stream",
     "text": [
      "Output = [12, 9, 7, 5, 4, 2]\n"
     ]
    }
   ],
   "source": [
    "# 3rd answer: arrays assignment\n",
    "\n",
    "def  reversearray(arr):    \n",
    "    x = arr[::-1]\n",
    "    return x\n",
    "    \n",
    "    \n",
    "arr = [2, 4, 5, 7, 9, 12]\n",
    "print(\"Output =\",reversearray(arr))"
   ]
  },
  {
   "cell_type": "code",
   "execution_count": 12,
   "metadata": {},
   "outputs": [
    {
     "name": "stdout",
     "output_type": "stream",
     "text": [
      "Output = 20\n"
     ]
    }
   ],
   "source": [
    "# 4th answer: arrays assignment\n",
    "\n",
    "def maxelement(arr):       #method function\n",
    "    arr.sort(reverse= True)    #sorting the list based on descending order\n",
    "    return arr[0]\n",
    " \n",
    "\n",
    "arr = [10, 5, 20, 8, 15]\n",
    "print(\"Output =\",maxelement(arr))"
   ]
  },
  {
   "cell_type": "code",
   "execution_count": 13,
   "id": "91109a44-e9a6-4f5c-8f28-58fb5fa3658c",
   "metadata": {},
   "outputs": [
    {
     "name": "stdout",
     "output_type": "stream",
     "text": [
      "output = [1, 2, 3, 4, 5]\n"
     ]
    }
   ],
   "source": [
    "# 5th answer: arrays assignment\n",
    "\n",
    "def removeduplicate(arr):\n",
    "    x = set(arr) #created set of the given array to remove duplicates from the array\n",
    "    return list(x) #typecasting the set into List\n",
    "                      \n",
    "            # driver code\n",
    "arr = [1, 1, 2, 2, 2, 3, 3, 4, 4, 4, 5, 5]\n",
    "r = removeduplicate(arr)\n",
    "print(\"output =\",r)"
   ]
  }
 ],
 "metadata": {
  "kernelspec": {
   "display_name": "Python 3 (ipykernel)",
   "language": "python",
   "name": "python3"
  },
  "language_info": {
   "codemirror_mode": {
    "name": "ipython",
    "version": 3
   },
   "file_extension": ".py",
   "mimetype": "text/x-python",
   "name": "python",
   "nbconvert_exporter": "python",
   "pygments_lexer": "ipython3",
   "version": "3.11.3"
  }
 },
 "nbformat": 4,
 "nbformat_minor": 5
}
