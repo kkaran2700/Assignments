{
 "cells": [
  {
   "cell_type": "code",
   "execution_count": 1,
   "id": "b3de9133-ce46-47b1-8745-ae691b9a0d2c",
   "metadata": {},
   "outputs": [
    {
     "name": "stdout",
     "output_type": "stream",
     "text": [
      "1\n",
      "2\n",
      "3\n",
      "4\n",
      "5\n",
      "6\n",
      "7\n",
      "8\n",
      "9\n",
      "10\n"
     ]
    }
   ],
   "source": [
    "# 1. Write a Python program to print the numbers from 1 to 10 using a `for` loop.\n",
    "\n",
    "for i in range(1,11):\n",
    "    print(i)"
   ]
  },
  {
   "cell_type": "code",
   "execution_count": 4,
   "id": "e8a042c5-92fa-4bda-ae2f-56245dc3d512",
   "metadata": {},
   "outputs": [
    {
     "name": "stdout",
     "output_type": "stream",
     "text": [
      "15.0\n"
     ]
    }
   ],
   "source": [
    "# 2. Create a program that calculates the sum of all numbers in a list using a `for` loop.\n",
    "n = [1, 2, 3, 4, 5]\n",
    "l = len(n)\n",
    "for i in range(l+1):\n",
    "    sum = (l*(l+1))/2\n",
    "print(sum)\n",
    "    "
   ]
  },
  {
   "cell_type": "code",
   "execution_count": 31,
   "id": "89952085-2b8f-4247-8b4c-f0a86cff5b14",
   "metadata": {},
   "outputs": [
    {
     "name": "stdout",
     "output_type": "stream",
     "text": [
      "ramuknarak"
     ]
    }
   ],
   "source": [
    "# 3. Write a program to print the characters of a string in reverse order using a `for` loop.\n",
    "x = \"karankumar\"\n",
    "for char in reversed(x):\n",
    "    print(char,end = \"\")"
   ]
  },
  {
   "cell_type": "code",
   "execution_count": 50,
   "id": "ca1a9b2e-ac6c-4361-9fa2-3f63549e8da3",
   "metadata": {},
   "outputs": [
    {
     "name": "stdin",
     "output_type": "stream",
     "text": [
      "enter number 5\n"
     ]
    },
    {
     "name": "stdout",
     "output_type": "stream",
     "text": [
      "factorial of 5 = 120\n"
     ]
    }
   ],
   "source": [
    "# 4. Develop a program that finds the factorial of a given number using a `for` loop.\n",
    "n = int(input(\"enter number\"))\n",
    "f = 1\n",
    "for i in range(1,n+1):\n",
    "    f = f*i\n",
    "print(f\"factorial of {n} = {f}\")"
   ]
  },
  {
   "cell_type": "code",
   "execution_count": 53,
   "id": "cbddc1c8-d645-47b8-904b-79a382fe7486",
   "metadata": {},
   "outputs": [
    {
     "name": "stdin",
     "output_type": "stream",
     "text": [
      "enter number: 7\n"
     ]
    },
    {
     "name": "stdout",
     "output_type": "stream",
     "text": [
      "7 X 1 = 7\n",
      "7 X 2 = 14\n",
      "7 X 3 = 21\n",
      "7 X 4 = 28\n",
      "7 X 5 = 35\n",
      "7 X 6 = 42\n",
      "7 X 7 = 49\n",
      "7 X 8 = 56\n",
      "7 X 9 = 63\n",
      "7 X 10 = 70\n"
     ]
    }
   ],
   "source": [
    "# 5. Create a program to print the multiplication table of a given number using a `for` loop.\n",
    "n = int(input(\"enter number:\"))\n",
    "for i in range(1,11):\n",
    "    print(f\"{n} X {i} = {n*i}\")"
   ]
  },
  {
   "cell_type": "code",
   "execution_count": 58,
   "id": "37d1f425-f87c-4391-bdf1-602bbfead41e",
   "metadata": {},
   "outputs": [
    {
     "name": "stdout",
     "output_type": "stream",
     "text": [
      "number of even number: 5 and odd number: 6\n"
     ]
    }
   ],
   "source": [
    "# 6. Write a program that counts the number of even and odd numbers in a list using a `for` loop.\n",
    "n = [1, 2, 3, 4, 5, 6, 7, 8, 9, 10, 11]\n",
    "x=list()\n",
    "y=list()\n",
    "for i in n:\n",
    "    if i%2 == 0:\n",
    "        x.append(i)\n",
    "    else:\n",
    "        y.append(i)\n",
    "        \n",
    "print(f\"number of even number: {len(x)} and odd number: {len(y)}\")\n",
    "            \n",
    "        "
   ]
  },
  {
   "cell_type": "code",
   "execution_count": 60,
   "id": "eb2fe67a-b81d-422d-9a30-4e9dfe0af034",
   "metadata": {},
   "outputs": [
    {
     "name": "stdout",
     "output_type": "stream",
     "text": [
      "square of 1: 1\n",
      "square of 2: 4\n",
      "square of 3: 9\n",
      "square of 4: 16\n",
      "square of 5: 25\n"
     ]
    }
   ],
   "source": [
    "# 7. Develop a program that prints the squares of numbers from 1 to 5 using a `for` loop.\n",
    "\n",
    "for i in range(1,6):\n",
    "    print(f\"square of {i}: {i*i}\")"
   ]
  },
  {
   "cell_type": "code",
   "execution_count": 64,
   "id": "fd9d52bd-cc09-4743-a979-2a15b4c3fc19",
   "metadata": {},
   "outputs": [
    {
     "name": "stdin",
     "output_type": "stream",
     "text": [
      "enter string kkkkkkkkk\n"
     ]
    },
    {
     "name": "stdout",
     "output_type": "stream",
     "text": [
      "length of string is: 9\n"
     ]
    }
   ],
   "source": [
    "# 8. Create a program to find the length of a string without using the `len()` function.\n",
    "x = input(\"enter string\")\n",
    "n=0\n",
    "for char in x:\n",
    "    n+= 1\n",
    "print(\"length of string is:\",n)\n",
    "    "
   ]
  },
  {
   "cell_type": "code",
   "execution_count": 78,
   "id": "14f95fef-3ebc-4ac1-8503-78565302f23d",
   "metadata": {},
   "outputs": [
    {
     "name": "stdout",
     "output_type": "stream",
     "text": [
      "average if list of numbers is: 5.5\n"
     ]
    }
   ],
   "source": [
    "# 9. Write a program that calculates the average of a list of numbers using a `for` loop.\n",
    "\n",
    "l = [1,2,3,4,5,6,7,8,9,10]\n",
    "avg = 0\n",
    "for i in l:\n",
    "    avg += i\n",
    "print(f\"average if list of numbers is: {avg/len(l)}\")\n",
    "    "
   ]
  },
  {
   "cell_type": "code",
   "execution_count": 135,
   "id": "a8870c31-3947-4b0e-8fc7-2d36cc85e3d7",
   "metadata": {},
   "outputs": [
    {
     "name": "stdin",
     "output_type": "stream",
     "text": [
      "enter the number 9\n"
     ]
    },
    {
     "name": "stdout",
     "output_type": "stream",
     "text": [
      "[0, 1, 1, 2, 3, 5, 8, 13, 21, 34]\n"
     ]
    }
   ],
   "source": [
    "# 10. Develop a program that prints the first `n` Fibonacci numbers using a `for` loop.\n",
    "\n",
    "n = int(input(\"enter the number\"))\n",
    "x = [0,1]\n",
    "for i in range(2,n+1):\n",
    "    x.append(x[i-1] + x[i-2])\n",
    "print(x)\n",
    "\n",
    "\n"
   ]
  },
  {
   "cell_type": "code",
   "execution_count": 71,
   "id": "e1c8c820-646d-492c-b8fb-facc76db2897",
   "metadata": {},
   "outputs": [
    {
     "name": "stdout",
     "output_type": "stream",
     "text": [
      "it contains duplicates\n"
     ]
    }
   ],
   "source": [
    "# 11.Write a program to check if a given list contains any duplicates using a `for` loop.\n",
    "def duplicates(dupl):\n",
    "    y = set()\n",
    "    for i in dupl:\n",
    "        if i in y:\n",
    "            return True\n",
    "        y.add(i)\n",
    "    return False\n",
    "\n",
    "dupl = [1, 2, 2, 3, 3, 3, 4, 4, 6, 5, 7, 8, 9, 9, 9]\n",
    "# dupl = [1, 2, 3, 4, 5] for testing without duplicates\n",
    "r = duplicates(dupl)\n",
    "if r == True:\n",
    "    print(\"it contains duplicates\")\n",
    "else:\n",
    "    print(\"it does not contain duplicates\")\n",
    "\n",
    "\n",
    "\n"
   ]
  },
  {
   "cell_type": "code",
   "execution_count": 8,
   "id": "8f9af700-0bd0-411e-a1f4-593308e457be",
   "metadata": {},
   "outputs": [
    {
     "name": "stdin",
     "output_type": "stream",
     "text": [
      "enter number 4\n"
     ]
    },
    {
     "name": "stdout",
     "output_type": "stream",
     "text": [
      "not prime number\n"
     ]
    }
   ],
   "source": [
    "# 12. Create a program that prints the prime numbers in a given range using a `for` loop.\n",
    "n = int(input(\"enter number\"))\n",
    "prime = True\n",
    "for i in range(2,n):\n",
    "    if (n%i) == 0:\n",
    "        prime = False\n",
    "        break\n",
    "if prime:\n",
    "    print(\"prime number\")\n",
    "else:\n",
    "    print(\"not prime number\")\n",
    "            \n"
   ]
  },
  {
   "cell_type": "code",
   "execution_count": 6,
   "id": "9206536a-dd22-4991-9412-65f2a4a469ae",
   "metadata": {},
   "outputs": [
    {
     "name": "stdin",
     "output_type": "stream",
     "text": [
      "enter string karankumar kanathala\n"
     ]
    },
    {
     "name": "stdout",
     "output_type": "stream",
     "text": [
      "number of vowels in the string are: 8\n"
     ]
    }
   ],
   "source": [
    "# 13. Develop a program that counts the number of vowels in a string using a `for` loop.\n",
    "\n",
    "x = input(\"enter string\")        #taking input of string from the user\n",
    "y = {'a','e','i','o','u','A','E','I','O','U'} #making vowel set\n",
    "z = 0 #considering vowels is 0 at first\n",
    "for char in x:\n",
    "    if char in y:\n",
    "        z += 1\n",
    "print(\"number of vowels in the string are:\", z)\n",
    "    "
   ]
  },
  {
   "cell_type": "code",
   "execution_count": 18,
   "id": "fed1470c-3feb-422e-9902-b3287e497ddc",
   "metadata": {},
   "outputs": [
    {
     "name": "stdout",
     "output_type": "stream",
     "text": [
      "max element in 2D list is: 9\n"
     ]
    }
   ],
   "source": [
    "# 14. Write a program to find the maximum element in a 2D list using a nested `for` loop.\n",
    "\n",
    "array2d = [1,2,3],[4,5,6],[7,8,9]\n",
    "maxelement = array2d[0][0]\n",
    "for i in array2d:\n",
    "    for j in i:\n",
    "        if array2d[0][0] < j:\n",
    "            maxelemt = j\n",
    "print(\"max element in 2D list is:\", j)        \n",
    "    \n",
    "    "
   ]
  },
  {
   "cell_type": "code",
   "execution_count": 20,
   "id": "f4e62fdf-d5e9-4758-909c-9551f10f6763",
   "metadata": {},
   "outputs": [
    {
     "name": "stdout",
     "output_type": "stream",
     "text": [
      "Updated list is: [1, 3, 4, 5, 6, 7, 8, 9, 5]\n"
     ]
    }
   ],
   "source": [
    "# 15. Create a program that removes all occurrences of a specific element from a list using a `for` loop.\n",
    "\n",
    "def remElement(mylist, rem):\n",
    "    x = list()\n",
    "    for i in mylist:\n",
    "        if i != element:\n",
    "            x.append(i)\n",
    "    return x\n",
    "        \n",
    "        \n",
    "mylist = [1,2,2,3,4,5,6,7,8,9,2,2,5,2]\n",
    "element = 2\n",
    "result = remElement(mylist, element)\n",
    "print(\"Updated list is:\", result)"
   ]
  },
  {
   "cell_type": "code",
   "execution_count": 25,
   "id": "abd96c09-a584-4b56-aaa8-8a61e1e3d29f",
   "metadata": {},
   "outputs": [
    {
     "name": "stdout",
     "output_type": "stream",
     "text": [
      "1 X 1 = 1\n",
      "1 X 2 = 2\n",
      "1 X 3 = 3\n",
      "1 X 4 = 4\n",
      "1 X 5 = 5\n",
      "1 X 6 = 6\n",
      "1 X 7 = 7\n",
      "1 X 8 = 8\n",
      "1 X 9 = 9\n",
      "1 X 10 = 10\n",
      "\n",
      "2 X 1 = 2\n",
      "2 X 2 = 4\n",
      "2 X 3 = 6\n",
      "2 X 4 = 8\n",
      "2 X 5 = 10\n",
      "2 X 6 = 12\n",
      "2 X 7 = 14\n",
      "2 X 8 = 16\n",
      "2 X 9 = 18\n",
      "2 X 10 = 20\n",
      "\n",
      "3 X 1 = 3\n",
      "3 X 2 = 6\n",
      "3 X 3 = 9\n",
      "3 X 4 = 12\n",
      "3 X 5 = 15\n",
      "3 X 6 = 18\n",
      "3 X 7 = 21\n",
      "3 X 8 = 24\n",
      "3 X 9 = 27\n",
      "3 X 10 = 30\n",
      "\n",
      "4 X 1 = 4\n",
      "4 X 2 = 8\n",
      "4 X 3 = 12\n",
      "4 X 4 = 16\n",
      "4 X 5 = 20\n",
      "4 X 6 = 24\n",
      "4 X 7 = 28\n",
      "4 X 8 = 32\n",
      "4 X 9 = 36\n",
      "4 X 10 = 40\n",
      "\n",
      "5 X 1 = 5\n",
      "5 X 2 = 10\n",
      "5 X 3 = 15\n",
      "5 X 4 = 20\n",
      "5 X 5 = 25\n",
      "5 X 6 = 30\n",
      "5 X 7 = 35\n",
      "5 X 8 = 40\n",
      "5 X 9 = 45\n",
      "5 X 10 = 50\n",
      "\n"
     ]
    }
   ],
   "source": [
    "# 16. Develop a program that generates a multiplication table for numbers from 1 to 5 using a nested `for` loop.\n",
    "\n",
    "for i in range(1,6):\n",
    "    for j in range(1,11):\n",
    "        print(f\"{i} X {j} = {i*j}\")\n",
    "    print()\n",
    "        \n",
    "              "
   ]
  },
  {
   "cell_type": "code",
   "execution_count": 29,
   "id": "1ef87a50-351c-4b5b-b838-a1b0378fd6ae",
   "metadata": {},
   "outputs": [
    {
     "name": "stdout",
     "output_type": "stream",
     "text": [
      "Celsius temperatures of the List are: [27, 77, 127, 103, 150, 187]\n"
     ]
    }
   ],
   "source": [
    "# 17. Write a program that converts a list of Fahrenheit temperatures to Celsius using a `for` loop.\n",
    "\n",
    "Ftemplist = [300, 350,400, 376, 423, 460]\n",
    "Ctemp = list()\n",
    "for temp in Ftemplist:\n",
    "    n = temp - 273\n",
    "    Ctemp.append(n)\n",
    "print(\"Celsius temperatures of the List are:\", Ctemp)\n",
    "    "
   ]
  },
  {
   "cell_type": "code",
   "execution_count": 6,
   "id": "2b72f038-cfeb-4e87-a8b4-363644144f06",
   "metadata": {},
   "outputs": [
    {
     "name": "stdout",
     "output_type": "stream",
     "text": [
      "1 3 5 7 9 "
     ]
    }
   ],
   "source": [
    "# 18. Create a program to print the common elements from two lists using a `for` loop.\n",
    "\n",
    "l1 = [1,2,3,4,5,6,7,8,9,10] #list1\n",
    "l2 = [1,3,5,7,9,11,13,15] #list2\n",
    "\n",
    "for i in l1:\n",
    "    if i in l2:\n",
    "        print((i),end=\" \")\n",
    "        \n"
   ]
  },
  {
   "cell_type": "code",
   "execution_count": 7,
   "id": "630a2f90-fffa-48c9-81c8-9760ca9e97f8",
   "metadata": {},
   "outputs": [
    {
     "name": "stdout",
     "output_type": "stream",
     "text": [
      "\n",
      "*\n",
      "**\n",
      "***\n",
      "****\n",
      "*****\n"
     ]
    }
   ],
   "source": [
    "# 19. Develop a program that prints the pattern of right-angled triangles using a `for` loop. Use ‘*’ to draw the pattern\n",
    "\n",
    "n = 5\n",
    "for i in range(5+1):\n",
    "    print(\"*\" * i)"
   ]
  },
  {
   "cell_type": "code",
   "execution_count": 9,
   "id": "06307565-46b7-4bf7-a78a-8e2de9b14c7e",
   "metadata": {},
   "outputs": [
    {
     "data": {
      "text/plain": [
       "50"
      ]
     },
     "execution_count": 9,
     "metadata": {},
     "output_type": "execute_result"
    }
   ],
   "source": [
    "def gcdnum(a, b):\n",
    "    minnum = min(a, b)\n",
    "    gcd = 1\n",
    "    for i in range(1, minnum + 1):\n",
    "        if (a % i == 0) and (b % i == 0):\n",
    "            gcd = i\n",
    "    return gcd\n",
    "\n",
    "a = 50\n",
    "b = 150\n",
    "gcdnum(a, b)"
   ]
  },
  {
   "cell_type": "code",
   "execution_count": 5,
   "id": "dbf7d1cb-eb38-4baa-962c-266abca84c8d",
   "metadata": {},
   "outputs": [
    {
     "name": "stdout",
     "output_type": "stream",
     "text": [
      "sum of digits of numbers in a list:  [4, 6, 8, 10, 12, 14, 16, 18]\n"
     ]
    }
   ],
   "source": [
    "# 21. Create a program that calculates the sum of the digits of numbers in a list using a list comprehension.\n",
    "def numsum(num):\n",
    "    return sum(int(digit) for digit in str(num)) #adding of digits in the number\n",
    "def listsum(x):\n",
    "    return [numsum(num) for num in x] # sum of all the digits of number in the list of numbers\n",
    "\n",
    "\n",
    "    \n",
    "\n",
    "x = [22,33,44,55,66,77,88,99]\n",
    "print(\"sum of digits of numbers in a list: \",listsum(x))"
   ]
  },
  {
   "cell_type": "code",
   "execution_count": 3,
   "id": "7adfa942-292c-44ef-aceb-d1f3bf50af29",
   "metadata": {},
   "outputs": [
    {
     "name": "stdin",
     "output_type": "stream",
     "text": [
      "enter number to find the prime factors of the number 63\n"
     ]
    },
    {
     "data": {
      "text/plain": [
       "[3, 7]"
      ]
     },
     "execution_count": 3,
     "metadata": {},
     "output_type": "execute_result"
    }
   ],
   "source": [
    "# 22. Write a program to find the prime factors of a given number using a `for` loop and list comprehension.\n",
    "\n",
    "def primefac(n):\n",
    "    primeFactors = [factor for factor in range(2,n+1) if n % factor == 0 and all(factor % i != 0 for i in range(2, int(factor**0.5)+1))]\n",
    "    return primeFactors\n",
    "\n",
    "n = int(input(\"enter number to find the prime factors of the number\"))\n",
    "primefac(n)\n",
    "    "
   ]
  },
  {
   "cell_type": "code",
   "execution_count": 7,
   "id": "1ac5e3cd-7c67-4931-9ea3-b5d1c39340fa",
   "metadata": {},
   "outputs": [
    {
     "name": "stdout",
     "output_type": "stream",
     "text": [
      "[1, 2, 3, 4, 5]\n"
     ]
    }
   ],
   "source": [
    "# 23. Develop a program that extracts unique elements from a list and stores them in a new list using a list comprehension.\n",
    "\n",
    "def unique(n): #function name\n",
    "    list2 = set(i for i in n)     #created 2nd list inside the function: uniqu(n)\n",
    "    return list(list2)\n",
    "    \n",
    "    #driver code\n",
    "list1 = [1,1,2,2,3,3,3,4,4,4,4,5,5,5,5,5]\n",
    "print(unique(list1))"
   ]
  },
  {
   "cell_type": "code",
   "execution_count": 9,
   "id": "feafdeb6-b88d-495b-b58f-af32c876158b",
   "metadata": {},
   "outputs": [
    {
     "name": "stdin",
     "output_type": "stream",
     "text": [
      "enter number to generate list of palindromic numbers 99\n"
     ]
    },
    {
     "name": "stdout",
     "output_type": "stream",
     "text": [
      "[11, 22, 33, 44, 55, 66, 77, 88, 99]\n"
     ]
    }
   ],
   "source": [
    "# 24. Create a program that generates a list of all palindromic numbers up to a specified limit using a list comprehension.\n",
    "\n",
    "def palindromicNum(n):\n",
    "    return [num for num in range(11,n+1) if str(num) == str(num)[::-1]]\n",
    "\n",
    "n = int(input(\"enter number to generate list of palindromic numbers\"))\n",
    "result = palindromicNum(n)\n",
    "print(result)"
   ]
  },
  {
   "cell_type": "code",
   "execution_count": 33,
   "id": "cd1d4180-42ea-40e9-ac80-62c6176fe124",
   "metadata": {},
   "outputs": [
    {
     "data": {
      "text/plain": [
       "[1, 2, 3, 4, 5, 6, 7, 8, 9]"
      ]
     },
     "execution_count": 33,
     "metadata": {},
     "output_type": "execute_result"
    }
   ],
   "source": [
    "# 25. Write a program to flatten a nested list using list comprehension.\n",
    "def flatten(xlist): #considering xlist as list\n",
    "    return[item for sublist in xlist for item in (flatten(sublist) if isinstance(sublist, list) else [sublist])]\n",
    "\n",
    "#driver code\n",
    "xlist = [1, 2, 3, [4, 5], 6, [7, 8, 9]]\n",
    "flatten(xlist)   #calling function\n"
   ]
  },
  {
   "cell_type": "code",
   "execution_count": 1,
   "id": "83f863c7-c4d3-457a-96f2-d152ea23f393",
   "metadata": {},
   "outputs": [
    {
     "data": {
      "text/plain": [
       "[30, 25]"
      ]
     },
     "execution_count": 1,
     "metadata": {},
     "output_type": "execute_result"
    }
   ],
   "source": [
    "# 26. Develop a program that computes the sum of even and odd numbers in a list separately using list comprehension\n",
    "\n",
    "def sumEvenOdd(list1):\n",
    "    evensum = sum(i for i in list1 if i % 2 == 0)\n",
    "    oddsum = sum(i for i in list1 if i % 2 != 0)\n",
    "    return [evensum, oddsum]\n",
    "\n",
    "list1 = [1,2,3,4,5,6,7,8,9,10]\n",
    "sumEvenOdd(list1)"
   ]
  },
  {
   "cell_type": "code",
   "execution_count": 1,
   "id": "1fb44681-acf1-47be-afb9-5d12f70770f1",
   "metadata": {},
   "outputs": [
    {
     "name": "stdout",
     "output_type": "stream",
     "text": [
      "[1, 9, 25, 49, 81]\n"
     ]
    }
   ],
   "source": [
    "# 27. Create a program that generates a list of squares of odd numbers between 1 and 10 using list comprehension.\n",
    "\n",
    "listn = [1,2,3,4,5,6,7,8,9,10]\n",
    "\n",
    "x= [i**2 for i in listn if i%2!=0 ]\n",
    "print(x)"
   ]
  },
  {
   "cell_type": "code",
   "execution_count": 10,
   "id": "c345736d-3f72-4ee0-9de1-76e3b30319e5",
   "metadata": {},
   "outputs": [
    {
     "name": "stdout",
     "output_type": "stream",
     "text": [
      "{'a': 'apple', 'b': 'ball', 'c': 'cat', 'd': 'dog', 'e': 'elephant'}\n"
     ]
    }
   ],
   "source": [
    "# 28. Write a program that combines two lists into a dictionary using list comprehension.\n",
    "\n",
    "list1 = ['a','b','c','d','e']\n",
    "\n",
    "list2 = [\"apple\", \"ball\", \"cat\", \"dog\", \"elephant\"]\n",
    "\n",
    "x = {list1[i]: list2[i] for i in range(min(len(list1), len(list2)))}\n",
    "print(x)\n"
   ]
  },
  {
   "cell_type": "code",
   "execution_count": 8,
   "id": "ec6a6a74-d055-4cf4-a6af-028db2607cd7",
   "metadata": {},
   "outputs": [
    {
     "name": "stdin",
     "output_type": "stream",
     "text": [
      "enter a string karan\n"
     ]
    },
    {
     "name": "stdout",
     "output_type": "stream",
     "text": [
      "vowels in the given string are: ['a', 'a']\n"
     ]
    }
   ],
   "source": [
    "#29. Develop a program that extracts the vowels from a string and stores them in a list using list comprehension.\n",
    "\n",
    "def vowels(strngs): #function name considers as vowel()\n",
    "    v = [char for char in strngs if char in 'AEIOUaeiou']  #extracting vowels form the string 'aeiouAEIOU'\n",
    "    return v\n",
    "\n",
    "strngs = input(\"enter a string\") #takes string as input from the user\n",
    "vowellist = vowels(strngs)\n",
    "print('vowels in the given string are:', vowellist)\n"
   ]
  },
  {
   "cell_type": "code",
   "execution_count": 11,
   "id": "4d68440e-ea33-4317-9b4f-7f5438fa6e68",
   "metadata": {},
   "outputs": [
    {
     "name": "stdout",
     "output_type": "stream",
     "text": [
      "['45', '65', '66', '23', '67', '1', '2', '3']\n"
     ]
    }
   ],
   "source": [
    "# 30. Create a program that removes all non-numeric characters from a list of strings using list comprehension.\n",
    "\n",
    "def nonNumeric(stringsList):\n",
    "    alpha = [''.join(char for char in stringg if char.isnumeric()) for stringg in stringsList] #removes all the non-numeric characters from the list of strings and creates list of numbers remaining \n",
    "    return alpha\n",
    "\n",
    "stringsList = ['45k', '65a', '66r', '23a', '67n', '1k','2k','3k']\n",
    "r = nonNumeric(stringsList)\n",
    "print(r)\n"
   ]
  }
 ],
 "metadata": {
  "kernelspec": {
   "display_name": "Python 3 (ipykernel)",
   "language": "python",
   "name": "python3"
  },
  "language_info": {
   "codemirror_mode": {
    "name": "ipython",
    "version": 3
   },
   "file_extension": ".py",
   "mimetype": "text/x-python",
   "name": "python",
   "nbconvert_exporter": "python",
   "pygments_lexer": "ipython3",
   "version": "3.10.8"
  }
 },
 "nbformat": 4,
 "nbformat_minor": 5
}
