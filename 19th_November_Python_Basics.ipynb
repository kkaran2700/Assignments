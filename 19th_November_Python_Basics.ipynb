{
 "cells": [
  {
   "cell_type": "code",
   "execution_count": 12,
   "id": "9f23593f-e0c4-46e9-96f9-bf80aa70bd25",
   "metadata": {},
   "outputs": [
    {
     "name": "stdout",
     "output_type": "stream",
     "text": [
      "x is 7\n",
      "y is  27\n"
     ]
    }
   ],
   "source": [
    "# Python Basics Variable: 1st answer\n",
    "x = 27\n",
    "y = 7\n",
    "\n",
    "x, y = y, x\n",
    "\n",
    "print(\"x is\", x)\n",
    "print(\"y is \", y)"
   ]
  },
  {
   "cell_type": "code",
   "execution_count": 13,
   "id": "0e07cb17-4046-40fd-9877-57c1705c4a87",
   "metadata": {},
   "outputs": [
    {
     "name": "stdin",
     "output_type": "stream",
     "text": [
      "enter lenght of rectangle: 5\n",
      "enter widtht of rectangle: 2\n"
     ]
    },
    {
     "name": "stdout",
     "output_type": "stream",
     "text": [
      "area of the rectangle is  10\n"
     ]
    }
   ],
   "source": [
    "# Python Basics Variable: 2nd answer\n",
    "length = int(input(\"enter lenght of rectangle:\"))\n",
    "width = int(input(\"enter widtht of rectangle:\"))\n",
    "\n",
    "area = length * width\n",
    "\n",
    "print(\"area of the rectangle is \", area)\n"
   ]
  },
  {
   "cell_type": "code",
   "execution_count": 18,
   "id": "f0d9423b-c5ef-46e3-b65f-52aa0f1752cf",
   "metadata": {},
   "outputs": [
    {
     "name": "stdin",
     "output_type": "stream",
     "text": [
      "enter the temperature in Celsius 98\n"
     ]
    },
    {
     "name": "stdout",
     "output_type": "stream",
     "text": [
      "Fahreinheit temperature is  371\n"
     ]
    }
   ],
   "source": [
    "# Python Basics Variable: 3rd answer\n",
    "\n",
    "temperature = int(input(\"enter the temperature in Celsius\"))\n",
    "\n",
    "result = temperature + 273\n",
    "\n",
    "print(\"Fahreinheit temperature is \", result)"
   ]
  },
  {
   "cell_type": "code",
   "execution_count": 21,
   "id": "ef1d1a68-b720-4d41-8ed7-284104319718",
   "metadata": {},
   "outputs": [
    {
     "name": "stdin",
     "output_type": "stream",
     "text": [
      "enter the string: karan\n"
     ]
    },
    {
     "name": "stdout",
     "output_type": "stream",
     "text": [
      "length of string is  5\n"
     ]
    }
   ],
   "source": [
    "# String Based Questions: 1st answer\n",
    "x = input(\"enter the string:\")\n",
    "y = len(x)\n",
    "print(\"length of string is \", y)"
   ]
  },
  {
   "cell_type": "code",
   "execution_count": 24,
   "id": "700a7291-2b66-46b8-8903-f5dad4a67815",
   "metadata": {},
   "outputs": [
    {
     "name": "stdin",
     "output_type": "stream",
     "text": [
      "enter the sentence: aeihgfhgjfhgf\n"
     ]
    },
    {
     "name": "stdout",
     "output_type": "stream",
     "text": [
      "number of vowels is: 3\n"
     ]
    }
   ],
   "source": [
    "# String Based Questions: 2nd answer\n",
    "x = input(\"enter the sentence:\")\n",
    "vowel = 0\n",
    "vowelset = set(\"aeiouAEIOU\")\n",
    "for char in x:\n",
    "    if char in vowelset:\n",
    "        vowel += 1\n",
    "\n",
    "print(\"number of vowels is:\", vowel)"
   ]
  },
  {
   "cell_type": "code",
   "execution_count": 25,
   "id": "67ae0c33-ecf7-4e40-a313-d60505f048a2",
   "metadata": {},
   "outputs": [
    {
     "name": "stdout",
     "output_type": "stream",
     "text": [
      "alahtanakramuknarak\n"
     ]
    }
   ],
   "source": [
    "# String Based Questions: 3rd answer\n",
    "x = \"karankumarkanathala\"\n",
    "y = x[::-1]\n",
    "print(y)\n"
   ]
  },
  {
   "cell_type": "code",
   "execution_count": 32,
   "id": "f5c2ad79-57f4-4261-b860-cfe49b5bfd40",
   "metadata": {},
   "outputs": [
    {
     "name": "stdin",
     "output_type": "stream",
     "text": [
      "enter the string: rrrrrrrrrr\n"
     ]
    },
    {
     "name": "stdout",
     "output_type": "stream",
     "text": [
      "rrrrrrrrrr\n",
      "It is a Palindrome\n"
     ]
    }
   ],
   "source": [
    "# String Based Questions: 4th answer\n",
    "name = input(\"enter the string:\")\n",
    "\n",
    "print(name)\n",
    "x = name[::1]\n",
    "y = name[::-1]\n",
    "\n",
    "if x == y:\n",
    "    print(\"It is a Palindrome\")\n",
    "else:\n",
    "    print(\"It is not a palindrome\")\n"
   ]
  },
  {
   "cell_type": "code",
   "execution_count": 33,
   "id": "6580d682-07ec-4a54-a028-b65025030e9c",
   "metadata": {},
   "outputs": [
    {
     "name": "stdin",
     "output_type": "stream",
     "text": [
      "enter the string: karan kumar kanathala\n"
     ]
    },
    {
     "name": "stdout",
     "output_type": "stream",
     "text": [
      "modified string without spaces is: karankumarkanathala\n"
     ]
    }
   ],
   "source": [
    "# String Based Questions: 5th answer\n",
    "x = input(\"enter the string:\")\n",
    "y = x.replace(\" \", \"\")\n",
    "print(\"modified string without spaces is:\", y)"
   ]
  },
  {
   "cell_type": "code",
   "execution_count": null,
   "id": "22fea4ef-abce-40d0-8bdc-c4f08b9096a7",
   "metadata": {},
   "outputs": [],
   "source": []
  }
 ],
 "metadata": {
  "kernelspec": {
   "display_name": "Python 3 (ipykernel)",
   "language": "python",
   "name": "python3"
  },
  "language_info": {
   "codemirror_mode": {
    "name": "ipython",
    "version": 3
   },
   "file_extension": ".py",
   "mimetype": "text/x-python",
   "name": "python",
   "nbconvert_exporter": "python",
   "pygments_lexer": "ipython3",
   "version": "3.10.8"
  }
 },
 "nbformat": 4,
 "nbformat_minor": 5
}
