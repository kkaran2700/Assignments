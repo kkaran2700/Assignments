{
 "cells": [
  {
   "cell_type": "code",
   "execution_count": 3,
   "id": "61ba989d-f76d-417f-a791-ade239b047a4",
   "metadata": {},
   "outputs": [
    {
     "name": "stdin",
     "output_type": "stream",
     "text": [
      "enter number -5577\n"
     ]
    },
    {
     "name": "stdout",
     "output_type": "stream",
     "text": [
      "the number is a negative\n"
     ]
    }
   ],
   "source": [
    "# 1. Write a Python program to check if a given number is positive or negative.\n",
    "x = int(input(\"enter number\"))\n",
    "\n",
    "if '-' in str(x):\n",
    "    print(\"the number is a negative\")\n",
    "else:\n",
    "    print(\"the number is a positive number\")\n",
    "        "
   ]
  },
  {
   "cell_type": "code",
   "execution_count": 5,
   "id": "d40223f7-dbc2-4425-a8b7-56b7a2f8eaa9",
   "metadata": {},
   "outputs": [
    {
     "name": "stdin",
     "output_type": "stream",
     "text": [
      "enter age of the person 25\n"
     ]
    },
    {
     "name": "stdout",
     "output_type": "stream",
     "text": [
      "the person is eligible to vote\n"
     ]
    }
   ],
   "source": [
    "# 2. Create a program that determines if a person is eligible to vote based on their age.\n",
    "x = int(input(\"enter age of the person\"))\n",
    "if x>=18:\n",
    "    print(\"the person is eligible to vote\")\n",
    "else:\n",
    "    print(\"the person is not eligible to vote\")"
   ]
  },
  {
   "cell_type": "code",
   "execution_count": 6,
   "id": "e88d81be-0a70-491c-85a4-c06c6627c088",
   "metadata": {},
   "outputs": [
    {
     "name": "stdin",
     "output_type": "stream",
     "text": [
      "enter the first number 12\n",
      "enter the second number 67\n"
     ]
    },
    {
     "name": "stdout",
     "output_type": "stream",
     "text": [
      "maximum of two numbers is 67\n"
     ]
    }
   ],
   "source": [
    "# 3. Develop a program to find the maximum of two numbers using if-else statements.\n",
    "x = int(input(\"enter the first number\"))\n",
    "y = int(input(\"enter the second number\"))\n",
    "if x>y:\n",
    "    print(\"maximum of two numbers is\",x)\n",
    "else:\n",
    "    print(\"maximum of two numbers is\",y)"
   ]
  },
  {
   "cell_type": "code",
   "execution_count": 8,
   "id": "b0970e07-2cb3-4be8-9197-9037aa56ac53",
   "metadata": {},
   "outputs": [
    {
     "name": "stdin",
     "output_type": "stream",
     "text": [
      "enter year 2000\n"
     ]
    },
    {
     "name": "stdout",
     "output_type": "stream",
     "text": [
      "2000 is leap year\n"
     ]
    }
   ],
   "source": [
    "# 4. Write a Python script to classify a given year as a leap year or not.\n",
    "x = int(input(\"enter year\"))\n",
    "if x%4 == 0:\n",
    "    print(f\"{x} is leap year\")\n",
    "else:\n",
    "    print(f\"{x} is not a leap year\")\n",
    "    "
   ]
  },
  {
   "cell_type": "code",
   "execution_count": 11,
   "id": "6fdd1493-5788-43df-b7c1-3983d991394e",
   "metadata": {},
   "outputs": [
    {
     "name": "stdin",
     "output_type": "stream",
     "text": [
      "enter character A\n"
     ]
    },
    {
     "name": "stdout",
     "output_type": "stream",
     "text": [
      "A is vowel\n"
     ]
    }
   ],
   "source": [
    "# 5. Create a program that checks whether a character is a vowel or a consonant.\n",
    "x = input('enter character')\n",
    "if x in 'aeiouAEIOU':\n",
    "    print(x, \"is vowel\")\n",
    "else:\n",
    "    print(x,\"is consonant\")"
   ]
  },
  {
   "cell_type": "code",
   "execution_count": 12,
   "id": "6ac12d8c-4684-4cce-972d-0e898c5e0550",
   "metadata": {},
   "outputs": [
    {
     "name": "stdin",
     "output_type": "stream",
     "text": [
      "enter number 55\n"
     ]
    },
    {
     "name": "stdout",
     "output_type": "stream",
     "text": [
      "55 is odd number\n"
     ]
    }
   ],
   "source": [
    "# 6. Implement a program to determine whether a given number is even or odd.\n",
    "x = int(input(\"enter number\"))\n",
    "if x%2==0:\n",
    "    print(f\"{x} is even number\")\n",
    "else:\n",
    "    print(f\"{x} is odd number\")\n"
   ]
  },
  {
   "cell_type": "code",
   "execution_count": 14,
   "id": "a202a9ec-11a2-49f9-bea1-841af2bfbb52",
   "metadata": {},
   "outputs": [
    {
     "name": "stdin",
     "output_type": "stream",
     "text": [
      "enter a number -55\n"
     ]
    },
    {
     "name": "stdout",
     "output_type": "stream",
     "text": [
      "absolute value of -55 is 55\n"
     ]
    }
   ],
   "source": [
    "# 7. Write a Python function to calculate the absolute value of a number without using the `abs()` function.\n",
    "def absvalue(n):\n",
    "    if n<0:\n",
    "        return -n\n",
    "    return n\n",
    "n = int(input(\"enter a number\"))\n",
    "x = absvalue(n)\n",
    "print(f\"absolute value of {n} is {x}\")"
   ]
  },
  {
   "cell_type": "code",
   "execution_count": 15,
   "id": "577310a8-8cae-4f3e-876d-6ac732b833a2",
   "metadata": {},
   "outputs": [
    {
     "name": "stdin",
     "output_type": "stream",
     "text": [
      "enter first number 11\n",
      "enter second number 56\n",
      "enter third number 14\n"
     ]
    },
    {
     "name": "stdout",
     "output_type": "stream",
     "text": [
      "56 is largest of three numbers\n"
     ]
    }
   ],
   "source": [
    "# 8. Develop a program that determines the largest of three given numbers using if-else statements.\n",
    "x = int(input(\"enter first number\"))\n",
    "y = int(input(\"enter second number\"))\n",
    "z = int(input(\"enter third number\"))\n",
    "\n",
    "if x>y and x>z:\n",
    "    print(f\"{x} is largest of three numbers\")\n",
    "elif y>x and y>z:\n",
    "    print(f\"{y} is largest of three numbers\")\n",
    "else:\n",
    "    print(f\"{z} is largest of three numbers\")"
   ]
  },
  {
   "cell_type": "code",
   "execution_count": 17,
   "id": "339464be-26f5-4154-b6f1-ecc420cd1518",
   "metadata": {},
   "outputs": [
    {
     "name": "stdin",
     "output_type": "stream",
     "text": [
      "enter a string kaka\n"
     ]
    },
    {
     "name": "stdout",
     "output_type": "stream",
     "text": [
      "kaka is not a palindrome\n"
     ]
    }
   ],
   "source": [
    "# 9. Create a program that checks if a given string is a palindrome.\n",
    "x = input(\"enter a string\")\n",
    "if x[::] == x[::-1]:\n",
    "    print(f\"{x} is a palidrome\")\n",
    "else:\n",
    "    print(f\"{x} is not a palindrome\")"
   ]
  },
  {
   "cell_type": "code",
   "execution_count": 20,
   "id": "748dc8e0-be59-4430-a59f-afc87d1db76c",
   "metadata": {},
   "outputs": [
    {
     "name": "stdin",
     "output_type": "stream",
     "text": [
      "enter marks of the student:  78\n"
     ]
    },
    {
     "name": "stdout",
     "output_type": "stream",
     "text": [
      "DISTINCTION\n"
     ]
    }
   ],
   "source": [
    "# 10. Write a Python program to calculate the grade based on a student's score.\n",
    "x = int(input(\"enter marks of the student: \"))\n",
    "if x==35:\n",
    "    print(\"C grade\")\n",
    "elif 35<x<=50:\n",
    "    print(\"B grade\")\n",
    "elif 50<x<=75:\n",
    "    print(\"A grade\")\n",
    "elif 75<x<=100:\n",
    "    print(\"DISTINCTION\")\n",
    "else:\n",
    "    print(\"FAIL\")"
   ]
  },
  {
   "cell_type": "code",
   "execution_count": 1,
   "id": "d58e4759-2135-4afd-9afc-8e13f65546d7",
   "metadata": {},
   "outputs": [
    {
     "name": "stdin",
     "output_type": "stream",
     "text": [
      "enter first number 23\n",
      "enter second number 1\n",
      "enter third number 56\n"
     ]
    },
    {
     "name": "stdout",
     "output_type": "stream",
     "text": [
      "56 is greater than 23 and 1\n"
     ]
    }
   ],
   "source": [
    "# 11. Write a program to find the largest among three numbers using nested if-else statements.\n",
    "first = int(input(\"enter first number\"))\n",
    "second = int(input(\"enter second number\"))\n",
    "third = int(input(\"enter third number\"))\n",
    "\n",
    "if first>second and first > third:\n",
    "    print(f\"{first} is larger than {second} and {third}\")\n",
    "elif second>first and second>third:\n",
    "    print(f\"{second} is larger than {first}and {third}\")\n",
    "else:\n",
    "    print(f\"{third} is greater than {first} and {second}\")"
   ]
  },
  {
   "cell_type": "code",
   "execution_count": 5,
   "id": "96736834-aa63-465e-8c62-ddc8e7d1b3f5",
   "metadata": {},
   "outputs": [
    {
     "name": "stdin",
     "output_type": "stream",
     "text": [
      "enter first side 1\n",
      "enter second side 2\n",
      "enter third side 3\n"
     ]
    },
    {
     "name": "stdout",
     "output_type": "stream",
     "text": [
      "scalene triangle\n"
     ]
    }
   ],
   "source": [
    "# 12. Implement a program to determine if a triangle is equilateral, isosceles, or scalene.\n",
    "a = int(input(\"enter first side\"))\n",
    "b = int(input(\"enter second side\"))\n",
    "c = int(input(\"enter third side\"))\n",
    "\n",
    "if a==b==c:\n",
    "    print(\"equilateral triangle\")\n",
    "elif a==b!=c or a==c!=b:\n",
    "    print(\"isosceles triangle\")\n",
    "else:\n",
    "    print(\"scalene triangle\")"
   ]
  },
  {
   "cell_type": "code",
   "execution_count": 28,
   "id": "17607cc8-8cd1-4179-9879-d026edf3bb8b",
   "metadata": {},
   "outputs": [
    {
     "name": "stdin",
     "output_type": "stream",
     "text": [
      "enter year 100\n"
     ]
    },
    {
     "name": "stdout",
     "output_type": "stream",
     "text": [
      "100 is not a leap year\n",
      "100 is a century year but not a leap year\n"
     ]
    }
   ],
   "source": [
    "# 13. Develop a program that checks if a year is a leap year and also if it is a century year.\n",
    "\n",
    "def leapyear(year):\n",
    "    if year%4==0:\n",
    "        if year%100==0:\n",
    "            if year%400==0:\n",
    "                return True #if year is divisible by 4,100,400\n",
    "            else: \n",
    "                return False # year is not divisible by 400\n",
    "        else:\n",
    "            return True #year is divisible by 4 and not divisible by 100\n",
    "    else: \n",
    "        return False #year is not divisible by 4\n",
    "    \n",
    "def centuryyear(year):\n",
    "    if year%100==0:\n",
    "        return True\n",
    "    else:\n",
    "        return False\n",
    "\n",
    "    \n",
    "year = int(input(\"enter year\"))\n",
    "if leapyear(year):\n",
    "    if centuryyear(year):\n",
    "        print(f\"{year} is leap year and also a century year\")\n",
    "else:\n",
    "    print(f\"{year} is not a leap year\")\n",
    "    if centuryyear(year):\n",
    "        print(f\"{year} is a century year but not a leap year\")\n",
    "    else:\n",
    "        print(f\"{year} is not a leap year and not a century year\")"
   ]
  },
  {
   "cell_type": "code",
   "execution_count": 32,
   "id": "624b146c-0a43-4e6c-b774-bae7063be3c6",
   "metadata": {},
   "outputs": [
    {
     "name": "stdin",
     "output_type": "stream",
     "text": [
      "enter number 5\n"
     ]
    },
    {
     "name": "stdout",
     "output_type": "stream",
     "text": [
      "positive number\n"
     ]
    }
   ],
   "source": [
    "# 14. Write a Python script to determine if a number is positive, negative, or zero.\n",
    "x = int(input(\"enter number\"))\n",
    "if x<0:\n",
    "    print(\"negative number\")\n",
    "elif x>0:\n",
    "    print(\"positive number\")\n",
    "else:\n",
    "    print(\"zero\")"
   ]
  },
  {
   "cell_type": "code",
   "execution_count": 40,
   "id": "43f7e186-c301-4def-87ff-5a5b54be56db",
   "metadata": {},
   "outputs": [
    {
     "name": "stdin",
     "output_type": "stream",
     "text": [
      "enter age 19\n"
     ]
    },
    {
     "name": "stdout",
     "output_type": "stream",
     "text": [
      "person is a teenage between 13 and 19 years old\n"
     ]
    }
   ],
   "source": [
    "# 15. Create a program to check if a person is a teenager (between 13 and 19 years old).\n",
    "age = int(input(\"enter age\"))\n",
    "if 12<age<=19:\n",
    "    print(\"person is a teenage between 13 and 19 years old\")\n",
    "else:\n",
    "    print(\"person is not a teenage between 13 and 19 years old\")"
   ]
  },
  {
   "cell_type": "code",
   "execution_count": 46,
   "id": "72a4ddce-38bd-4a72-a449-2f4cce8bfd21",
   "metadata": {},
   "outputs": [
    {
     "name": "stdin",
     "output_type": "stream",
     "text": [
      "enter angle 90\n"
     ]
    },
    {
     "name": "stdout",
     "output_type": "stream",
     "text": [
      "right angle\n"
     ]
    }
   ],
   "source": [
    "# 16. Develop a program that determines the type of angle based on its measure (acute, obtuse, or right).\n",
    "a = int(input(\"enter angle\"))\n",
    "if a>360:\n",
    "    a = a - 360\n",
    "if a<90:\n",
    "    print(\"acute angle\")\n",
    "elif a>90:\n",
    "    print(\"obtuse angle\")\n",
    "else:\n",
    "    print(\"right angle\")"
   ]
  },
  {
   "cell_type": "code",
   "execution_count": 3,
   "id": "29a5a761-bf32-4fe7-beb8-9009b17c9aaf",
   "metadata": {},
   "outputs": [
    {
     "name": "stdin",
     "output_type": "stream",
     "text": [
      "enter a value 5\n",
      "enter b value 6\n",
      "enter c value 7\n"
     ]
    },
    {
     "name": "stdout",
     "output_type": "stream",
     "text": [
      "root1: (-0.6+1.0198039027185568j), root2:(-0.6-1.0198039027185568j)\n"
     ]
    }
   ],
   "source": [
    "# 17. Write a Python program to calculate the roots of a quadratic equation.\n",
    "import cmath\n",
    "a = int(input(\"enter a value\"))\n",
    "b = int(input(\"enter b value\"))\n",
    "c = int(input(\"enter c value\"))\n",
    "\n",
    "d = cmath.sqrt((b**2) - 4*a*c)\n",
    "\n",
    "root1 = (-b + d) / (2*a)\n",
    "root2 = (-b - d) / (2*a)\n",
    "\n",
    "print(f\"root1: {root1}, root2:{root2}\")"
   ]
  },
  {
   "cell_type": "code",
   "execution_count": 8,
   "id": "236c63c7-1eb8-4425-a9db-f5b212fa2ed6",
   "metadata": {},
   "outputs": [
    {
     "name": "stdin",
     "output_type": "stream",
     "text": [
      "enter number 4\n"
     ]
    },
    {
     "name": "stdout",
     "output_type": "stream",
     "text": [
      "Thursday\n"
     ]
    }
   ],
   "source": [
    "# 18. Implement a program to determine the day of the week based on a user-provided number (1 for Monday, 2 for Tuesday, etc.).\n",
    "\n",
    "number =  int(input(\"enter number\"))\n",
    "\n",
    "if number ==1:\n",
    "    print(\"Monday\")\n",
    "elif number ==2:\n",
    "        print(\"Tuesday\")\n",
    "elif number ==3:\n",
    "        print(\"Wednesday\")\n",
    "elif number ==4:\n",
    "        print(\"Thursday\")\n",
    "elif number ==5:\n",
    "        print(\"Friday\")\n",
    "elif number ==6:\n",
    "        print(\"Saturday\")\n",
    "elif number ==7:\n",
    "        print(\"Sunday\")\n",
    "else:\n",
    "    print(\"invalid input\")\n"
   ]
  },
  {
   "cell_type": "code",
   "execution_count": 15,
   "id": "50344a82-4706-43c7-a80f-e1c1ae85e805",
   "metadata": {},
   "outputs": [
    {
     "name": "stdin",
     "output_type": "stream",
     "text": [
      "enter year 2000\n"
     ]
    },
    {
     "name": "stdout",
     "output_type": "stream",
     "text": [
      "2000 is leap year\n",
      "2000 is leap year and 2000 is divisible by 400\n"
     ]
    }
   ],
   "source": [
    "# 19. Create a program that determines if a year is a leap year and also if it is evenly divisible by 400.\n",
    "year = int(input(\"enter year\"))\n",
    "if year%4==0:\n",
    "    print(f\"{year} is leap year\")\n",
    "    if year%100==0:\n",
    "        if year%400==0:\n",
    "            print(f\"{year} is leap year and {year} is divisible by 400\")\n",
    "        else:\n",
    "            print(f\"{year} is not leap year and {year} is not divisible by 400\")\n",
    "else:\n",
    "    print(f\"{year} is not a leap year\")"
   ]
  },
  {
   "cell_type": "code",
   "execution_count": 25,
   "id": "923a2551-e1b3-4725-8e9d-8e4ea408276c",
   "metadata": {},
   "outputs": [
    {
     "name": "stdin",
     "output_type": "stream",
     "text": [
      "enter number:\n",
      " 97\n"
     ]
    },
    {
     "name": "stdout",
     "output_type": "stream",
     "text": [
      "number is prime\n"
     ]
    }
   ],
   "source": [
    "# 20. Develop a program that checks if a given number is prime or not using nested if-else statements.\n",
    "num = int(input(\"enter number:\\n\"))\n",
    "prime = True\n",
    "for i in range(2,num):            #cannot keep range from 0 as anything/0 is infinity\n",
    "    if((num % i) == 0):\n",
    "        prime = False\n",
    "        break\n",
    "if prime:\n",
    "    print(\"number is prime\")\n",
    "else:\n",
    "    print(\"not prime\")"
   ]
  },
  {
   "cell_type": "code",
   "execution_count": 2,
   "id": "705fbc5b-4472-49ec-bacd-0441b6d89840",
   "metadata": {},
   "outputs": [
    {
     "name": "stdin",
     "output_type": "stream",
     "text": [
      "enter score 67\n"
     ]
    },
    {
     "name": "stdout",
     "output_type": "stream",
     "text": [
      "B-Grade\n"
     ]
    }
   ],
   "source": [
    "# 21. Write a Python program to assign grades based on different ranges of scores using elif statements.\n",
    "n = int(input(\"enter score\"))\n",
    "\n",
    "if n in range(1,35):\n",
    "    print(\"fail\")\n",
    "elif n == 35:\n",
    "    print(\"pass\")\n",
    "elif n in range(35,50):\n",
    "    print(\"C-Grade\")\n",
    "elif n in range(50,75):\n",
    "    print(\"B-Grade\")\n",
    "elif n in range(75,100):\n",
    "    print(\"A-Grade\")\n",
    "else:\n",
    "    print(\"enter valid marks between 1-100\")\n",
    "    "
   ]
  },
  {
   "cell_type": "code",
   "execution_count": 14,
   "id": "e25db0a9-7b7b-4760-9bed-9f4400705dde",
   "metadata": {},
   "outputs": [
    {
     "name": "stdin",
     "output_type": "stream",
     "text": [
      "enter first angle 90\n",
      "enter second angle 50\n",
      "enter third angle 40\n"
     ]
    },
    {
     "name": "stdout",
     "output_type": "stream",
     "text": [
      "right angled triangle\n"
     ]
    }
   ],
   "source": [
    "# 22. Implement a program to determine the type of a triangle based on its angles.\n",
    "a = int(input(\"enter first angle\"))\n",
    "b = int(input(\"enter second angle\"))\n",
    "c = int(input(\"enter third angle\"))\n",
    "\n",
    "if a+b+c!=180:\n",
    "    print(\"it is not a triangle\")\n",
    "elif a+b+c==180:\n",
    "    if (((a+b==90) and c==90) or ((a+c==90) and b==90) or ((b+c==90) and a==90)):\n",
    "        print(\"right angled triangle\")\n",
    "    elif (a==b==c==60):\n",
    "        print(\"equatorial triangle\")\n",
    "    elif(a!=b!=c):\n",
    "        print(\"scalene triangle\")\n",
    "\n"
   ]
  },
  {
   "cell_type": "code",
   "execution_count": 27,
   "id": "aff2d31f-77c7-40cf-b126-ca47fa16579c",
   "metadata": {},
   "outputs": [
    {
     "name": "stdin",
     "output_type": "stream",
     "text": [
      "enter height in meters 2\n",
      "enter wieght in kgs 75\n"
     ]
    },
    {
     "name": "stdout",
     "output_type": "stream",
     "text": [
      "based on given inputs your BMI is: 18.75\n",
      "Normal weight\n"
     ]
    }
   ],
   "source": [
    "# 23. Develop a program to categorize a given person's BMI into underweight, normal, overweight, or obese using elif statements.n = int(input(\"enter wieght\"))\n",
    "h = float(input(\"enter height in meters\"))\n",
    "w = float(input(\"enter wieght in kgs\"))\n",
    "\n",
    "bmi = w/(h**2)\n",
    "print(\"based on given inputs your BMI is:\",round(bmi,2))\n",
    "if bmi < 18.5:\n",
    "        print(\"Underweight\")\n",
    "elif 18.5 <= bmi < 24.9:\n",
    "    print(\"Normal weight\")\n",
    "elif 25 <= bmi < 29.9:\n",
    "    print(\"Overweight\")\n",
    "else:\n",
    "    print(\"Obese\")\n"
   ]
  },
  {
   "cell_type": "code",
   "execution_count": 21,
   "id": "084b545e-1e41-40d3-9338-ae1a178995c6",
   "metadata": {},
   "outputs": [
    {
     "name": "stdin",
     "output_type": "stream",
     "text": [
      "enter number 25\n"
     ]
    },
    {
     "name": "stdout",
     "output_type": "stream",
     "text": [
      "the number is a positive number\n"
     ]
    }
   ],
   "source": [
    "# 24. Create a program that determines whether a given number is positive, negative, or zero using elif statements.\n",
    "x = int(input(\"enter number\"))\n",
    "\n",
    "if x == 0:\n",
    "    print(\"zero\")\n",
    "    \n",
    "elif '-' in str(x):\n",
    "    print(\"the number is a negative\")\n",
    "else:\n",
    "    print(\"the number is a positive number\")"
   ]
  },
  {
   "cell_type": "code",
   "execution_count": 36,
   "id": "856f53c1-49bb-413d-ab48-b082b86a0baf",
   "metadata": {},
   "outputs": [
    {
     "name": "stdin",
     "output_type": "stream",
     "text": [
      "enter character 5\n"
     ]
    },
    {
     "name": "stdout",
     "output_type": "stream",
     "text": [
      "special case\n"
     ]
    }
   ],
   "source": [
    "# 25. Write a Python script to determine the type of a character (uppercase, lowercase, or special) using elif statements.\n",
    "\n",
    "c = input(\"enter character\")\n",
    "if c.isupper():\n",
    "    print(\"upper case\")\n",
    "elif c.islower():\n",
    "    print(\"lower case\")\n",
    "else:\n",
    "    print(\"special case\")"
   ]
  },
  {
   "cell_type": "code",
   "execution_count": 3,
   "id": "a3afd1b6-52de-47dc-9df9-730e6d12e338",
   "metadata": {},
   "outputs": [
    {
     "name": "stdin",
     "output_type": "stream",
     "text": [
      "enter amount 4000\n"
     ]
    },
    {
     "name": "stdout",
     "output_type": "stream",
     "text": [
      "15% discount is given and your final price to pay is 3400.0\n"
     ]
    }
   ],
   "source": [
    "# 26. Implement a program to calculate the discounted price based on different purchase amounts using elif statements.\n",
    "n = int(input(\"enter amount\"))\n",
    " \n",
    "if n in range(1000,3001):\n",
    "    print(f\"10% discount is given and your final price to pay is{(n*90)/100}\")\n",
    "elif n in range(3000,5001):\n",
    "    print(f\"15% discount is given and your final price to pay is {(n*85)/100}\")\n",
    "elif n>5000:\n",
    "        print(f\"20% discount is given and your final price to pay is{(n*80)/100}\")\n",
    "else:\n",
    "    print(f\"no discount will be given on {n} rupees purchase\")\n"
   ]
  },
  {
   "cell_type": "code",
   "execution_count": 2,
   "id": "5a2e6321-7e54-4ca2-af7f-501ca1bef18d",
   "metadata": {},
   "outputs": [
    {
     "name": "stdin",
     "output_type": "stream",
     "text": [
      "enter number of units consumed 566\n"
     ]
    },
    {
     "name": "stdout",
     "output_type": "stream",
     "text": [
      "your electricity bill to pay is 2830\n"
     ]
    }
   ],
   "source": [
    "# 27. Develop a program to calculate the electricity bill based on different consumption slabs using elif statements.\n",
    "n = int(input(\"enter number of units consumed\"))\n",
    "charge = 5\n",
    "bill = n*charge\n",
    "if n in range(50,101):\n",
    "    print(f\"your electricity bill to pay is {bill}\")\n",
    "elif n in range(101,201):\n",
    "    charge = charge+5\n",
    "    print(f\"your electricity bill to pay is {bill}\")\n",
    "elif n>200:\n",
    "    charge = charge+10\n",
    "    print(f\"your electricity bill to pay is {bill}\")\n",
    "else:\n",
    "    print(f\"your electricity bill to pay is 150 rupees\")\n",
    "    "
   ]
  },
  {
   "cell_type": "code",
   "execution_count": 5,
   "id": "80f0758a-c02f-4c5e-8240-91c927ab040f",
   "metadata": {},
   "outputs": [
    {
     "name": "stdin",
     "output_type": "stream",
     "text": [
      "enter first angle 80\n",
      "enter second angle 100\n",
      "enter third angle 80\n",
      "enter fourth angle 100\n"
     ]
    },
    {
     "name": "stdout",
     "output_type": "stream",
     "text": [
      "parallelogram or rhombus\n"
     ]
    }
   ],
   "source": [
    "# 28. Create a program to determine the type of quadrilateral based on its angles and sides using elif statements.\n",
    "\n",
    "a = int(input(\"enter first angle\"))\n",
    "b = int(input(\"enter second angle\"))\n",
    "c = int(input(\"enter third angle\"))\n",
    "d = int(input(\"enter fourth angle\"))\n",
    "\n",
    "if a+b+c+d == 360:\n",
    "    if a==b==c==d==90:\n",
    "        print(\"square or rectangle\")\n",
    "    elif a==c and b==d:\n",
    "        print(\"parallelogram or rhombus\")\n",
    "    elif a!=b!=c!=d:\n",
    "        print(\"trapezium\")"
   ]
  },
  {
   "cell_type": "code",
   "execution_count": 14,
   "id": "27c9cfe1-1d99-4700-8054-167d2f067c47",
   "metadata": {},
   "outputs": [
    {
     "name": "stdin",
     "output_type": "stream",
     "text": [
      "enter month dec\n"
     ]
    },
    {
     "name": "stdout",
     "output_type": "stream",
     "text": [
      "Winter season\n"
     ]
    }
   ],
   "source": [
    "# 29. Write a Python script to determine the season based on a user-provided month using elif statements.\n",
    "\n",
    "months = ['jan', 'feb', 'mar', 'apr', 'may', 'jun', 'jul', 'aug', 'sep', 'oct', 'nov' ,'dec']\n",
    "n = input(\"enter month\")\n",
    "\n",
    "if n in months[0:3]:\n",
    "    print(\"Autumn season\")\n",
    "elif n in months[3:6]:\n",
    "    print(\"Summer season\")\n",
    "elif n in months[6:9]:\n",
    "    print(\"Rainy season\")\n",
    "elif n in months[9:12]:\n",
    "    print(\"Winter season\")\n",
    "else:\n",
    "    print(\"Please enter from the months list\")"
   ]
  },
  {
   "cell_type": "code",
   "execution_count": 18,
   "id": "8ef29ea0-a5ae-414a-88c2-430695cc04e4",
   "metadata": {},
   "outputs": [
    {
     "name": "stdin",
     "output_type": "stream",
     "text": [
      "enter year 2001\n"
     ]
    },
    {
     "name": "stdout",
     "output_type": "stream",
     "text": [
      "common year\n",
      "{'jan': 31, 'mar': 31, 'apr': 30, 'may': 31, 'jun': 30, 'jul': 31, 'aug': 31, 'sep': 30, 'oct': 31, 'nov': 30, 'dec': 31, 'feb': 28}\n"
     ]
    }
   ],
   "source": [
    "# 30. Implement a program to determine the type of a year (leap or common) and month (30 or 31 days) using elif statements.\n",
    "year = int(input(\"enter year\"))\n",
    "if year%4==0:\n",
    "    ly = True\n",
    "    if year%100==0:\n",
    "        if year%400==0:\n",
    "            ly = True\n",
    "        else:\n",
    "            ly = False\n",
    "else:\n",
    "    ly = False\n",
    "    \n",
    "\n",
    "months = {'jan': 31, 'mar': 31, 'apr': 30, 'may': 31, 'jun': 30, 'jul': 31, 'aug': 31, 'sep': 30, 'oct': 31, 'nov':30 ,'dec':31}\n",
    "\n",
    "if ly == True:\n",
    "    print(\"leap year\")\n",
    "    m = {'feb': 29}\n",
    "    months.update(m)\n",
    "    print(months)\n",
    "else:\n",
    "    print(\"common year\")\n",
    "    m = {'feb': 28}\n",
    "    months.update(m)\n",
    "    print(months)"
   ]
  },
  {
   "cell_type": "code",
   "execution_count": 21,
   "id": "48c59e07-4bd7-40d0-9a5d-2f1556be70fb",
   "metadata": {},
   "outputs": [
    {
     "name": "stdin",
     "output_type": "stream",
     "text": [
      "enter number 0\n"
     ]
    },
    {
     "name": "stdout",
     "output_type": "stream",
     "text": [
      "zero\n"
     ]
    }
   ],
   "source": [
    "# 1. Write a Python program that checks if a given number is positive, negative, or zero.\n",
    "x = int(input(\"enter number\"))\n",
    "\n",
    "if x == 0:\n",
    "    print(\"zero\")\n",
    "    \n",
    "elif '-' in str(x):\n",
    "    print(\"the number is a negative\")\n",
    "else:\n",
    "    print(\"the number is a positive number\")"
   ]
  },
  {
   "cell_type": "code",
   "execution_count": 22,
   "id": "2a95e95b-f609-4d3d-b2e5-81570d8725fa",
   "metadata": {},
   "outputs": [
    {
     "name": "stdin",
     "output_type": "stream",
     "text": [
      "enter age of the person 23\n"
     ]
    },
    {
     "name": "stdout",
     "output_type": "stream",
     "text": [
      "the person is eligible to vote\n"
     ]
    }
   ],
   "source": [
    "# 2. Create a program that determines if a person is eligible to vote based on their age.\n",
    "x = int(input(\"enter age of the person\"))\n",
    "if x>=18:\n",
    "    print(\"the person is eligible to vote\")\n",
    "else:\n",
    "    print(\"the person is not eligible to vote\")"
   ]
  },
  {
   "cell_type": "code",
   "execution_count": 24,
   "id": "3e56fc76-0363-4e36-a570-f76b90e8a574",
   "metadata": {},
   "outputs": [
    {
     "name": "stdin",
     "output_type": "stream",
     "text": [
      "enter the first number 12\n",
      "enter the second number 3\n"
     ]
    },
    {
     "name": "stdout",
     "output_type": "stream",
     "text": [
      "maximum of two numbers is 12\n"
     ]
    }
   ],
   "source": [
    "# 3. Write a program to find the maximum of two given numbers using conditional statements.\n",
    "x = int(input(\"enter the first number\"))\n",
    "y = int(input(\"enter the second number\"))\n",
    "if x>y:\n",
    "    print(\"maximum of two numbers is\",x)\n",
    "else:\n",
    "    print(\"maximum of two numbers is\",y)\n"
   ]
  },
  {
   "cell_type": "code",
   "execution_count": 25,
   "id": "1501526c-b513-4e9a-8ecd-fe217bb81f7d",
   "metadata": {},
   "outputs": [
    {
     "name": "stdin",
     "output_type": "stream",
     "text": [
      "enter marks of the student:  76\n"
     ]
    },
    {
     "name": "stdout",
     "output_type": "stream",
     "text": [
      "DISTINCTION\n"
     ]
    }
   ],
   "source": [
    "# 4. Develop a program that calculates the grade of a student based on their exam score.\n",
    "x = int(input(\"enter marks of the student: \"))\n",
    "if x==35:\n",
    "    print(\"C grade\")\n",
    "elif 35<x<=50:\n",
    "    print(\"B grade\")\n",
    "elif 50<x<=75:\n",
    "    print(\"A grade\")\n",
    "elif 75<x<=100:\n",
    "    print(\"DISTINCTION\")\n",
    "else:\n",
    "    print(\"FAIL\")"
   ]
  },
  {
   "cell_type": "code",
   "execution_count": 26,
   "id": "8d8a5082-2a84-4ea7-acd3-836c5770ad22",
   "metadata": {},
   "outputs": [
    {
     "name": "stdin",
     "output_type": "stream",
     "text": [
      "enter year 2000\n"
     ]
    },
    {
     "name": "stdout",
     "output_type": "stream",
     "text": [
      "2000 is leap year\n"
     ]
    }
   ],
   "source": [
    "# 5. Create a program that checks if a year is a leap year or not.\n",
    "x = int(input(\"enter year\"))\n",
    "if x%4 == 0:\n",
    "    print(f\"{x} is leap year\")\n",
    "else:\n",
    "    print(f\"{x} is not a leap year\")\n",
    "    "
   ]
  },
  {
   "cell_type": "code",
   "execution_count": 27,
   "id": "b7d74337-12f4-4d12-9da2-ded351ad7c5c",
   "metadata": {},
   "outputs": [
    {
     "name": "stdin",
     "output_type": "stream",
     "text": [
      "enter first side 4\n",
      "enter second side 5\n",
      "enter third side 6\n"
     ]
    },
    {
     "name": "stdout",
     "output_type": "stream",
     "text": [
      "scalene triangle\n"
     ]
    }
   ],
   "source": [
    "# 6. Write a program to classify a triangle based on its sides' lengths.\n",
    "a = int(input(\"enter first side\"))\n",
    "b = int(input(\"enter second side\"))\n",
    "c = int(input(\"enter third side\"))\n",
    "\n",
    "if a==b==c:\n",
    "    print(\"equilateral triangle\")\n",
    "elif a==b!=c or a==c!=b:\n",
    "    print(\"isosceles triangle\")\n",
    "else:\n",
    "    print(\"scalene triangle\")"
   ]
  },
  {
   "cell_type": "code",
   "execution_count": 28,
   "id": "6d72eb21-9952-48cf-8b73-8bd6be83f605",
   "metadata": {},
   "outputs": [
    {
     "name": "stdin",
     "output_type": "stream",
     "text": [
      "enter first number 5\n",
      "enter second number 6\n",
      "enter third number 4\n"
     ]
    },
    {
     "name": "stdout",
     "output_type": "stream",
     "text": [
      "6 is largest of three numbers\n"
     ]
    }
   ],
   "source": [
    "# 7. Build a program that determines the largest of three given numbers.\n",
    "x = int(input(\"enter first number\"))\n",
    "y = int(input(\"enter second number\"))\n",
    "z = int(input(\"enter third number\"))\n",
    "\n",
    "if x>y and x>z:\n",
    "    print(f\"{x} is largest of three numbers\")\n",
    "elif y>x and y>z:\n",
    "    print(f\"{y} is largest of three numbers\")\n",
    "else:\n",
    "    print(f\"{z} is largest of three numbers\")"
   ]
  },
  {
   "cell_type": "code",
   "execution_count": 30,
   "id": "503b788f-dfbd-4d21-bbdc-353999b874f0",
   "metadata": {},
   "outputs": [
    {
     "name": "stdin",
     "output_type": "stream",
     "text": [
      "enter character a\n"
     ]
    },
    {
     "name": "stdout",
     "output_type": "stream",
     "text": [
      "a is vowel\n"
     ]
    }
   ],
   "source": [
    "# 8. Develop a program that checks whether a character is a vowel or a consonant.\n",
    "x = input('enter character')\n",
    "if x.lower() in 'aeiou':\n",
    "    print(x, \"is vowel\")\n",
    "else:\n",
    "    print(x,\"is consonant\")\n"
   ]
  },
  {
   "cell_type": "code",
   "execution_count": 31,
   "id": "3c52e5f6-44e3-4b94-9ad6-81a852518c10",
   "metadata": {},
   "outputs": [
    {
     "name": "stdin",
     "output_type": "stream",
     "text": [
      "enter amount 6000\n"
     ]
    },
    {
     "name": "stdout",
     "output_type": "stream",
     "text": [
      "20% discount is given and your final price to pay is4800.0\n"
     ]
    }
   ],
   "source": [
    "# 9. Create a program to calculate the total cost of a shopping cart based on discounts.\n",
    "n = int(input(\"enter amount\"))\n",
    " \n",
    "if n in range(1000,3001):\n",
    "    print(f\"10% discount is given and your final price to pay is{(n*90)/100}\")\n",
    "elif n in range(3000,5001):\n",
    "    print(f\"15% discount is given and your final price to pay is {(n*85)/100}\")\n",
    "elif n>5000:\n",
    "        print(f\"20% discount is given and your final price to pay is{(n*80)/100}\")\n",
    "else:\n",
    "    print(f\"no discount will be given on {n} rupees purchase\")\n"
   ]
  },
  {
   "cell_type": "code",
   "execution_count": 32,
   "id": "9ae3b799-16f4-4308-8562-0aaac055ca86",
   "metadata": {},
   "outputs": [
    {
     "name": "stdin",
     "output_type": "stream",
     "text": [
      "enter number 2\n"
     ]
    },
    {
     "name": "stdout",
     "output_type": "stream",
     "text": [
      "2 is even number\n"
     ]
    }
   ],
   "source": [
    "# 10. Write a program that checks if a given number is even or odd.\n",
    "x = int(input(\"enter number\"))\n",
    "if x%2==0:\n",
    "    print(f\"{x} is even number\")\n",
    "else:\n",
    "    print(f\"{x} is odd number\")"
   ]
  },
  {
   "cell_type": "code",
   "execution_count": 1,
   "id": "2ff10850-3480-4d1f-904b-f198578246de",
   "metadata": {},
   "outputs": [
    {
     "name": "stdin",
     "output_type": "stream",
     "text": [
      "enter a value 5\n",
      "enter b value 6\n",
      "enter c value 7\n"
     ]
    },
    {
     "name": "stdout",
     "output_type": "stream",
     "text": [
      "root1: (-0.6+1.0198039027185568j), root2:(-0.6-1.0198039027185568j)\n"
     ]
    }
   ],
   "source": [
    "# 11. Write a program that calculates the roots of a quadratic equation .\n",
    "import cmath\n",
    "a = int(input(\"enter a value\"))\n",
    "b = int(input(\"enter b value\"))\n",
    "c = int(input(\"enter c value\"))\n",
    "\n",
    "d = cmath.sqrt((b**2) - 4*a*c)\n",
    "\n",
    "root1 = (-b + d) / (2*a)\n",
    "root2 = (-b - d) / (2*a)\n",
    "\n",
    "print(f\"root1: {root1}, root2:{root2}\")"
   ]
  },
  {
   "cell_type": "code",
   "execution_count": 2,
   "id": "b4460c15-c3f9-4c23-8944-f4c15f5e6de9",
   "metadata": {},
   "outputs": [
    {
     "name": "stdin",
     "output_type": "stream",
     "text": [
      "enter number 3\n"
     ]
    },
    {
     "name": "stdout",
     "output_type": "stream",
     "text": [
      "Wednesday\n"
     ]
    }
   ],
   "source": [
    "# 12. Create a program that determines the day of the week based on the day number (1-7).\n",
    "number =  int(input(\"enter number\"))\n",
    "\n",
    "if number ==1:\n",
    "    print(\"Monday\")\n",
    "elif number ==2:\n",
    "        print(\"Tuesday\")\n",
    "elif number ==3:\n",
    "        print(\"Wednesday\")\n",
    "elif number ==4:\n",
    "        print(\"Thursday\")\n",
    "elif number ==5:\n",
    "        print(\"Friday\")\n",
    "elif number ==6:\n",
    "        print(\"Saturday\")\n",
    "elif number ==7:\n",
    "        print(\"Sunday\")\n",
    "else:\n",
    "    print(\"invalid input\")"
   ]
  },
  {
   "cell_type": "code",
   "execution_count": 4,
   "id": "61cc92b9-8d1c-49c5-b711-28d3dc731975",
   "metadata": {},
   "outputs": [
    {
     "name": "stdin",
     "output_type": "stream",
     "text": [
      "enter number 5\n"
     ]
    },
    {
     "data": {
      "text/plain": [
       "120"
      ]
     },
     "execution_count": 4,
     "metadata": {},
     "output_type": "execute_result"
    }
   ],
   "source": [
    "# 13. Develop a program that calculates the factorial of a given number using recursion.\n",
    "def factnum(n):\n",
    "    if n==0:\n",
    "        return 1\n",
    "    return n*factnum(n-1)\n",
    "\n",
    "n = int(input(\"enter number\"))\n",
    "factnum(n)"
   ]
  },
  {
   "cell_type": "code",
   "execution_count": 7,
   "id": "c0a43f63-da79-46a9-bbdd-263db4963fa8",
   "metadata": {},
   "outputs": [
    {
     "name": "stdin",
     "output_type": "stream",
     "text": [
      "enter first number 3\n",
      "enter second number 6\n",
      "enter third number 4\n"
     ]
    },
    {
     "name": "stdout",
     "output_type": "stream",
     "text": [
      "6 is largest of three numbers\n"
     ]
    }
   ],
   "source": [
    "# 14. Write a program to find the largest among three numbers without using the `max()` function.\n",
    "def maxthree(x,y,z):\n",
    "\n",
    "    if x>y and x>z:\n",
    "        print(f\"{x} is largest of three numbers\")\n",
    "    elif y>x and y>z:\n",
    "        print(f\"{y} is largest of three numbers\")\n",
    "    else:\n",
    "        print(f\"{z} is largest of three numbers\")\n",
    "\n",
    "x = int(input(\"enter first number\"))\n",
    "y = int(input(\"enter second number\"))\n",
    "z = int(input(\"enter third number\"))\n",
    "        \n",
    "result = maxthree(x,y,z)    "
   ]
  },
  {
   "cell_type": "code",
   "execution_count": 15,
   "id": "7c1488f3-cee8-41de-8fb5-bc5d01fe1979",
   "metadata": {},
   "outputs": [
    {
     "name": "stdout",
     "output_type": "stream",
     "text": [
      "Thankyou for using\n"
     ]
    },
    {
     "name": "stdin",
     "output_type": "stream",
     "text": [
      "enter button 1\n"
     ]
    },
    {
     "name": "stdout",
     "output_type": "stream",
     "text": [
      "welcome to ATM bank\n",
      "please choose from the below options\n",
      "cash transactions\n"
     ]
    },
    {
     "name": "stdin",
     "output_type": "stream",
     "text": [
      "press 11 for domestic, press 12 for international 12\n"
     ]
    },
    {
     "name": "stdout",
     "output_type": "stream",
     "text": [
      "international\n"
     ]
    }
   ],
   "source": [
    "# 15. Create a program that simulates a basic ATM transaction menu.\n",
    "def atmmenu(swipe):\n",
    "    print(\"\"\"welcome to ATM bank\n",
    "please choose from the below options\"\"\")\n",
    "\n",
    "    if n == 1:\n",
    "        print(\"cash transactions\")\n",
    "        x = int(input(\"press 11 for domestic, press 12 for international\"))\n",
    "        if x==11:\n",
    "            print('domestic')\n",
    "        elif x==12:\n",
    "            print('international')\n",
    "        else:\n",
    "            print('invalid')\n",
    "    elif n == 2:\n",
    "        print(\"check balance\")\n",
    "    elif n ==3:\n",
    "        print(\"payments\")\n",
    "    elif n == 4:\n",
    "        print(\"online banking\")\n",
    "    elif n == 5:\n",
    "        print(\"quick withdrawal\")\n",
    "    elif n == 6:\n",
    "        print(\"money transfer\")\n",
    "    elif n == 7:\n",
    "        print(\"other services\")\n",
    "print(\"Thankyou for using\")\n",
    "\n",
    "    \n",
    "\n",
    "swipe = \"swipe\"\n",
    "n = int(input(\"enter button\"))\n",
    "atm = atmmenu(swipe)"
   ]
  },
  {
   "cell_type": "code",
   "execution_count": 16,
   "id": "368b057f-4fd1-48bb-9e2a-e2265a1697db",
   "metadata": {},
   "outputs": [
    {
     "name": "stdin",
     "output_type": "stream",
     "text": [
      "enter string malayalam\n"
     ]
    },
    {
     "data": {
      "text/plain": [
       "True"
      ]
     },
     "execution_count": 16,
     "metadata": {},
     "output_type": "execute_result"
    }
   ],
   "source": [
    "# 16. Build a program that checks if a given string is a palindrome or not.\n",
    "def palinstring(s):\n",
    "\n",
    "    if s[::] == s[::-1]:\n",
    "        return True\n",
    "    return False\n",
    "\n",
    "s = input(\"enter string\")\n",
    "palinstring(s)\n"
   ]
  },
  {
   "cell_type": "code",
   "execution_count": 23,
   "id": "cce03584-afa1-4e59-a782-f29aa487cc7b",
   "metadata": {},
   "outputs": [
    {
     "data": {
      "text/plain": [
       "3.0"
      ]
     },
     "execution_count": 23,
     "metadata": {},
     "output_type": "execute_result"
    }
   ],
   "source": [
    "# 17. Write a program that calculates the average of a list of numbers, excluding the smallest and largest values.\n",
    "def avgoflist(arr):\n",
    "    arr.sort()\n",
    "    n = len(arr) - 2\n",
    "    avg = sum(arr[1:-1])/n\n",
    "    return avg\n",
    "\n",
    "arr = [1,2,3,4,5]\n",
    "avgoflist(arr)\n",
    "\n",
    "    \n",
    "    "
   ]
  },
  {
   "cell_type": "code",
   "execution_count": 2,
   "id": "fb14f3d6-9d3f-4199-a623-9c6290442921",
   "metadata": {},
   "outputs": [
    {
     "name": "stdin",
     "output_type": "stream",
     "text": [
      "enter temerature in celsius 90\n"
     ]
    },
    {
     "data": {
      "text/plain": [
       "194.0"
      ]
     },
     "execution_count": 2,
     "metadata": {},
     "output_type": "execute_result"
    }
   ],
   "source": [
    "# 18. Develop a program that converts a given temperature from Celsius to Fahrenheit.\n",
    "def tempconversion(t):\n",
    "    f = (t*9/5)+32\n",
    "    return f #farhein temperature\n",
    "\n",
    "t= int(input(\"enter temerature in celsius\"))\n",
    "tempconversion(t)"
   ]
  },
  {
   "cell_type": "code",
   "execution_count": 4,
   "id": "55ef1eb0-2664-4557-8b99-5b7e7c6a59a6",
   "metadata": {},
   "outputs": [
    {
     "name": "stdin",
     "output_type": "stream",
     "text": [
      "enter a value 4\n",
      "enter b value 5\n",
      "enter operator +\n"
     ]
    },
    {
     "data": {
      "text/plain": [
       "9"
      ]
     },
     "execution_count": 4,
     "metadata": {},
     "output_type": "execute_result"
    }
   ],
   "source": [
    "# 19. Create a program that simulates a basic calculator for addition, subtraction, multiplication, and division.\n",
    "\n",
    "def calculator(a,b,o):\n",
    "    if o == '+':\n",
    "        return a+b\n",
    "    elif o == '-':\n",
    "        return a-b\n",
    "    elif o == '*':\n",
    "        return a*b\n",
    "    elif o =='/':\n",
    "        return a/b\n",
    "    return False\n",
    "\n",
    "a = int(input(\"enter a value\"))\n",
    "b = int(input(\"enter b value\"))\n",
    "o = input(\"enter operator\")\n",
    "calculator(a,b,o)\n"
   ]
  },
  {
   "cell_type": "code",
   "execution_count": 5,
   "id": "f0bffe03-cbcc-41c7-b500-7d0dc5b71cf9",
   "metadata": {},
   "outputs": [
    {
     "name": "stdin",
     "output_type": "stream",
     "text": [
      "Enter the coefficient a:  4\n",
      "Enter the coefficient b:  5\n",
      "Enter the coefficient c:  6\n",
      "Enter the coefficient d:  7\n"
     ]
    },
    {
     "name": "stdout",
     "output_type": "stream",
     "text": [
      "Roots: ((-1.2077511858962175+0j), (-0.021124407051891426-1.2035479650143377j), (-0.021124407051890854+1.2035479650143375j))\n"
     ]
    }
   ],
   "source": [
    "# 20. Write a program that determines the roots of a cubic equation using the Cardano formula.\n",
    "import cmath\n",
    "\n",
    "def cubic_roots(a, b, c, d):\n",
    "    # Calculate discriminant\n",
    "    d0 = b**2 - 3*a*c\n",
    "    d1 = 2*b**3 - 9*a*b*c + 27*a**2*d\n",
    "    d = d1**2 - 4*d0**3\n",
    "\n",
    "    # Check for cases\n",
    "    if d > 0:\n",
    "        # Three real roots\n",
    "        C = ((d1 + cmath.sqrt(d)) / 2)**(1/3)\n",
    "        root1 = -1/(3*a) * (b + C + d0/C)\n",
    "        root2 = -1/(3*a) * (b + cmath.exp(2j * cmath.pi/3) * C + d0/(C * cmath.exp(2j * cmath.pi/3)))\n",
    "        root3 = -1/(3*a) * (b + cmath.exp(4j * cmath.pi/3) * C + d0/(C * cmath.exp(4j * cmath.pi/3)))\n",
    "    elif d == 0:\n",
    "        # One real root, two complex conjugate roots\n",
    "        C = ((d1 + cmath.sqrt(d)) / 2)**(1/3)\n",
    "        root1 = -1/(3*a) * (b + C + d0/C)\n",
    "        root2 = root3 = -1/(3*a) * (b - 0.5 * C - 0.5 * d0/C)\n",
    "    else:\n",
    "        # Three complex roots\n",
    "        C = ((delta1 + cmath.sqrt(d)) / 2)**(1/3)\n",
    "        root1 = -1/(3*a) * (b + C + d0/C)\n",
    "        root2 = -1/(3*a) * (b + cmath.exp(2j * cmath.pi/3) * C + d0/(C * cmath.exp(2j * cmath.pi/3)))\n",
    "        root3 = -1/(3*a) * (b + cmath.exp(4j * cmath.pi/3) * C + d0/(C * cmath.exp(4j * cmath.pi/3)))\n",
    "\n",
    "    return root1, root2, root3\n",
    "\n",
    "# Example usage\n",
    "a = float(input(\"Enter the coefficient a: \"))\n",
    "b = float(input(\"Enter the coefficient b: \"))\n",
    "c = float(input(\"Enter the coefficient c: \"))\n",
    "d = float(input(\"Enter the coefficient d: \"))\n",
    "\n",
    "roots = cubic_roots(a, b, c, d)\n",
    "print(\"Roots:\", roots)\n"
   ]
  },
  {
   "cell_type": "code",
   "execution_count": 15,
   "id": "90c09b90-38a1-4958-a92e-8cb08706ceec",
   "metadata": {},
   "outputs": [
    {
     "name": "stdin",
     "output_type": "stream",
     "text": [
      "enter income of the user in lakhs 7.65\n"
     ]
    },
    {
     "name": "stdout",
     "output_type": "stream",
     "text": [
      "tax to be paid by user is 1.53 lakhs\n"
     ]
    }
   ],
   "source": [
    "# 21. Create a program that calculates the income tax based on the user's income and tax brackets.\n",
    "\n",
    "def itax(n):\n",
    "    tax1 = (n*(10/100))\n",
    "    tax2 = (n*(20/100))\n",
    "    tax3 = (n*(30/100))\n",
    "    if 2<=n<=5:\n",
    "        print(f\"tax to be paid by user is {round(tax1,3)} lakhs\")\n",
    "    elif 6<=n<=10:\n",
    "        print(f\"tax to be paid by user is {round(tax2,3)} lakhs\")\n",
    "    elif n>11:\n",
    "        print(f\"tax to be paid by user is {round(tax3,3)} lakhs\")\n",
    "    else:\n",
    "        print(\"no tax is generated under this income level\")\n",
    "\n",
    "n = float(input(\"enter income of the user in lakhs\"))\n",
    "itax(n)\n",
    "              "
   ]
  },
  {
   "cell_type": "code",
   "execution_count": 17,
   "id": "08ec00d9-bff4-426c-904f-3fa004181ec7",
   "metadata": {},
   "outputs": [
    {
     "name": "stdout",
     "output_type": "stream",
     "text": [
      "computers turn to select r or p or s\n"
     ]
    },
    {
     "name": "stdin",
     "output_type": "stream",
     "text": [
      "give one of the following r or p or s p\n"
     ]
    },
    {
     "name": "stdout",
     "output_type": "stream",
     "text": [
      "computer choice is r\n",
      "your choice is p\n",
      "you won\n"
     ]
    }
   ],
   "source": [
    "# 22. Write a program that simulates a rock-paper-scissors game against the computer.\n",
    "import random\n",
    "def rps(com, me):\n",
    "    if com == me: #r = rock , p = paper, s = scissors\n",
    "        return None\n",
    "    elif com == 'r':\n",
    "        if me == 'p':\n",
    "            return True\n",
    "        return False\n",
    "    elif com == 'p':\n",
    "        if me == 's':\n",
    "            return True\n",
    "        return False\n",
    "    elif com == 's':\n",
    "        if me == 'r':\n",
    "            return True\n",
    "        return False\n",
    "    \n",
    "print(\"computers turn to select r or p or s\")\n",
    "r = random.randint(1, 3)\n",
    "\n",
    "if r == 1:\n",
    "    com = 'r'\n",
    "elif r == 2:\n",
    "    com = 'p'\n",
    "elif r == 3:\n",
    "    com = 's'\n",
    "    \n",
    "me = input(\"give one of the following r or p or s\")\n",
    "\n",
    "print(f\"computer choice is {com}\")\n",
    "print(f\"your choice is {me}\")\n",
    "\n",
    "game = rps(com, me)\n",
    "\n",
    "if game == None:\n",
    "    print(\"Tie\")\n",
    "elif game == True:\n",
    "    print(\"you won\")\n",
    "elif game == False:\n",
    "    print(\"computer won\")\n"
   ]
  },
  {
   "cell_type": "code",
   "execution_count": 5,
   "id": "06252a2a-fc38-448f-b082-fd319afa2f4e",
   "metadata": {},
   "outputs": [
    {
     "name": "stdout",
     "output_type": "stream",
     "text": [
      "Random Password Generator\n"
     ]
    },
    {
     "name": "stdin",
     "output_type": "stream",
     "text": [
      "Enter the desired password length:  9\n",
      "Include uppercase letters? (y/n):  y\n",
      "Include digits? (y/n):  y\n",
      "Include special characters? (y/n):  y\n"
     ]
    },
    {
     "name": "stdout",
     "output_type": "stream",
     "text": [
      "Generated Password: Z26\\A&L^w\n"
     ]
    }
   ],
   "source": [
    "# 23. Develop a program that generates a random password based on user preferences (length, complexity).\n",
    "import random\n",
    "import string\n",
    "\n",
    "def genpassword(length, uppercase, digits, specialchars):\n",
    "    # Define character sets based on complexity preferences\n",
    "    lowerchars = string.ascii_lowercase\n",
    "    upperchars = string.ascii_uppercase if uppercase else ''\n",
    "    digitchars = string.digits if digits else ''\n",
    "    specialchars = string.punctuation if specialchars else ''\n",
    "\n",
    "    # Combine character sets\n",
    "    allchars = lowerchars + upperchars + digitchars + specialchars\n",
    "\n",
    "    # Check if at least one character set is included\n",
    "    if not allchars:\n",
    "        print(\"Error: Please include at least one character set.\")\n",
    "        return None\n",
    "\n",
    "    # Generate the password\n",
    "    password = ''.join(random.choice(allchars) for _ in range(length))\n",
    "    return password\n",
    "\n",
    "\n",
    "print(\"Random Password Generator\")\n",
    "\n",
    "    # Get user preferences\n",
    "length = int(input(\"Enter the desired password length: \"))\n",
    "uppercase = input(\"Include uppercase letters? (y/n): \").lower() == 'y'\n",
    "digits = input(\"Include digits? (y/n): \").lower() == 'y'\n",
    "specialchars = input(\"Include special characters? (y/n): \").lower() == 'y'\n",
    "\n",
    "    # Generate and display the password\n",
    "password = genpassword(length, uppercase, digits, specialchars)\n",
    "if password:\n",
    "    print(\"Generated Password:\", password)\n"
   ]
  },
  {
   "cell_type": "code",
   "execution_count": 1,
   "id": "c3a6e17d-5eba-4354-a61b-d64dc316deee",
   "metadata": {},
   "outputs": [
    {
     "name": "stdout",
     "output_type": "stream",
     "text": [
      "Welcome to the Adventure Game!\n",
      "You find yourself in a dark forest.\n",
      "You have two paths ahead. Will you go left or right?\n"
     ]
    },
    {
     "name": "stdin",
     "output_type": "stream",
     "text": [
      "Enter 'left' or 'right':  left\n"
     ]
    },
    {
     "name": "stdout",
     "output_type": "stream",
     "text": [
      "\n",
      "You chose the left path.\n",
      "As you walk deeper into the forest, you encounter a friendly squirrel.\n",
      "The squirrel guides you to a hidden treasure!\n",
      "Congratulations! You've won the game.\n"
     ]
    }
   ],
   "source": [
    "# 24. Create a program that implements a simple text-based adventure game with branching scenarios.\n",
    "import time\n",
    "\n",
    "def intro():\n",
    "    print(\"Welcome to the Adventure Game!\")\n",
    "    time.sleep(1)\n",
    "    print(\"You find yourself in a dark forest.\")\n",
    "    time.sleep(1)\n",
    "    print(\"You have two paths ahead. Will you go left or right?\")\n",
    "    choice = input(\"Enter 'left' or 'right': \").lower()\n",
    "    return choice\n",
    "\n",
    "def left_path():\n",
    "    print(\"\\nYou chose the left path.\")\n",
    "    time.sleep(1)\n",
    "    print(\"As you walk deeper into the forest, you encounter a friendly squirrel.\")\n",
    "    time.sleep(1)\n",
    "    print(\"The squirrel guides you to a hidden treasure!\")\n",
    "    time.sleep(1)\n",
    "    print(\"Congratulations! You've won the game.\")\n",
    "\n",
    "def right_path():\n",
    "    print(\"\\nYou chose the right path.\")\n",
    "    time.sleep(1)\n",
    "    print(\"You come across a mysterious cave entrance.\")\n",
    "    time.sleep(1)\n",
    "    print(\"Do you want to enter the cave or continue walking?\")\n",
    "    choice = input(\"Enter 'cave' or 'continue': \").lower()\n",
    "    return choice\n",
    "\n",
    "def enter_cave():\n",
    "    print(\"\\nYou decide to enter the cave.\")\n",
    "    time.sleep(1)\n",
    "    print(\"Inside the cave, you discover a dragon sleeping on a bed of gold.\")\n",
    "    time.sleep(1)\n",
    "    print(\"Do you want to try to sneak past the dragon or wake it up?\")\n",
    "    choice = input(\"Enter 'sneak' or 'wake': \").lower()\n",
    "    return choice\n",
    "\n",
    "def sneak_past_dragon():\n",
    "    print(\"\\nYou successfully sneak past the dragon and find a passage leading out of the cave.\")\n",
    "    time.sleep(1)\n",
    "    print(\"Congratulations! You've escaped the dragon's lair.\")\n",
    "\n",
    "def wake_up_dragon():\n",
    "    print(\"\\nYou accidentally wake up the dragon!\")\n",
    "    time.sleep(1)\n",
    "    print(\"The dragon is angry and breathes fire. Game over!\")\n",
    "\n",
    "def main():\n",
    "    user_choice = intro()\n",
    "\n",
    "    if user_choice == 'left':\n",
    "        left_path()\n",
    "    elif user_choice == 'right':\n",
    "        cave_choice = right_path()\n",
    "\n",
    "        if cave_choice == 'cave':\n",
    "            dragon_choice = enter_cave()\n",
    "\n",
    "            if dragon_choice == 'sneak':\n",
    "                sneak_past_dragon()\n",
    "            elif dragon_choice == 'wake':\n",
    "                wake_up_dragon()\n",
    "            else:\n",
    "                print(\"Invalid choice. Game over.\")\n",
    "        elif cave_choice == 'continue':\n",
    "            print(\"\\nYou decide to continue walking. You find yourself in a beautiful meadow.\")\n",
    "            time.sleep(1)\n",
    "            print(\"Congratulations! You've reached the end of the game.\")\n",
    "        else:\n",
    "            print(\"Invalid choice. Game over.\")\n",
    "    else:\n",
    "        print(\"Invalid choice. Game over.\")\n",
    "\n",
    "if __name__ == \"__main__\":\n",
    "    main()\n"
   ]
  },
  {
   "cell_type": "code",
   "execution_count": null,
   "id": "92e7b41c-2be0-42fa-b274-f2a1ec0784b9",
   "metadata": {},
   "outputs": [],
   "source": [
    "# 25. Build a program that solves a linear equation for x, considering different cases.\n",
    "\n",
    "a = int(input(\"enter a\"))\n",
    "b = int(input(\"enter b\"))\n",
    "c = int(input(\"enter c\"))\n",
    "\n",
    "print(f\"{a}X + {b}Y\" = {c})"
   ]
  },
  {
   "cell_type": "code",
   "execution_count": 6,
   "id": "5d7391de-c3db-4fc0-b947-1d6c42fd6d81",
   "metadata": {},
   "outputs": [
    {
     "name": "stdout",
     "output_type": "stream",
     "text": [
      "Linear Equation Solver\n"
     ]
    },
    {
     "name": "stdin",
     "output_type": "stream",
     "text": [
      "Enter the coefficient 'a':  5\n",
      "Enter the coefficient 'b':  6\n"
     ]
    },
    {
     "name": "stdout",
     "output_type": "stream",
     "text": [
      "The solution for x is: -1.2\n"
     ]
    }
   ],
   "source": [
    "# 25. Build a program that solves a linear equation for x, considering different cases.\n",
    "def lineareq(a, b):\n",
    "    if a == 0:\n",
    "        if b == 0:\n",
    "            print(\"Infinite solutions (identity equation)\")\n",
    "        else:\n",
    "            print(\"No solution (contradiction)\")\n",
    "    else:\n",
    "        x = -b / a\n",
    "        print(f\"The solution for x is: {x}\")\n",
    "\n",
    "if __name__ == \"__main__\":\n",
    "    print(\"Linear Equation Solver\")\n",
    "    try:\n",
    "        a = float(input(\"Enter the coefficient of 'a': \"))\n",
    "        b = float(input(\"Enter the coefficient of 'b': \"))\n",
    "        lineareq(a, b)\n",
    "    except ValueError:\n",
    "        print(\"Invalid input\")\n"
   ]
  },
  {
   "cell_type": "code",
   "execution_count": 8,
   "id": "8409e731-9c1f-474b-a56f-cb07c603f051",
   "metadata": {},
   "outputs": [
    {
     "name": "stdin",
     "output_type": "stream",
     "text": [
      "enter year or number 2027\n"
     ]
    },
    {
     "name": "stdout",
     "output_type": "stream",
     "text": [
      "prime\n"
     ]
    }
   ],
   "source": [
    "# 27. Develop a program that determines whether a given year is a prime number or not.\n",
    "n = int(input(\"enter year or number\"))\n",
    "\n",
    "prime = True\n",
    "for i in range(2,n):\n",
    "    if n%i==0:\n",
    "        prime = False\n",
    "        break\n",
    "if prime:\n",
    "    print(\"prime\")\n",
    "else:\n",
    "    print(\"not prime\")            "
   ]
  },
  {
   "cell_type": "code",
   "execution_count": 20,
   "id": "0b9e288a-b505-429b-b350-61cde12097ef",
   "metadata": {},
   "outputs": [
    {
     "name": "stdin",
     "output_type": "stream",
     "text": [
      "first number 56\n",
      "second number 54\n",
      "third number 65\n"
     ]
    },
    {
     "name": "stdout",
     "output_type": "stream",
     "text": [
      "54 56 65\n"
     ]
    }
   ],
   "source": [
    "# 28. Create a program that sorts three numbers in ascending order using conditional statements.\n",
    "\n",
    "a = int(input(\"first number\"))\n",
    "b = int(input(\"second number\"))\n",
    "c = int(input(\"third number\"))\n",
    "\n",
    "if a==b==c:\n",
    "    print(a,b,c)\n",
    "elif a==b!=c:\n",
    "    if a>c:\n",
    "        print(c,a,b)\n",
    "    else:\n",
    "        print(a,b,c)\n",
    "elif a!=b==c:\n",
    "    if a>c:\n",
    "        print(b,c,a)\n",
    "    else:\n",
    "        print(a,b,c)\n",
    "elif a==c!=b:\n",
    "    if b>c:\n",
    "        print(a,c,b)\n",
    "    else:\n",
    "        print(b,a,c)\n",
    "elif a>b and a>c:\n",
    "    if b>c:\n",
    "        print(c,b,a)\n",
    "    else:\n",
    "        print(b,c,a)\n",
    "elif b>a and b>c:\n",
    "    if a>c:\n",
    "        print(c,a,b)\n",
    "    else:\n",
    "        print(a,c,b)\n",
    "elif c>a and c>b:\n",
    "    if a>b:\n",
    "        print(b,a,c)\n",
    "    else:\n",
    "        print(a,b,c)\n"
   ]
  },
  {
   "cell_type": "code",
   "execution_count": 26,
   "id": "9c5f28c8-515d-4fb6-a146-249ca5b8cce3",
   "metadata": {},
   "outputs": [
    {
     "name": "stdin",
     "output_type": "stream",
     "text": [
      "enter height in meters 1.75\n",
      "enter wieght in kgs 75\n"
     ]
    },
    {
     "name": "stdout",
     "output_type": "stream",
     "text": [
      "based on given inputs your BMI is: 24.49\n",
      "Normal weight: Keep maintaining a healthy lifestyle.\n"
     ]
    }
   ],
   "source": [
    "# 30. Write a program that calculates the BMI (Body Mass Index) and provides health recommendations based on the user's input.\n",
    "h = float(input(\"enter height in meters\"))\n",
    "w = float(input(\"enter wieght in kgs\"))\n",
    "\n",
    "bmi = w/(h**2)\n",
    "print(\"based on given inputs your BMI is:\",round(bmi,2))\n",
    "if bmi < 18.5:\n",
    "        print(\"Underweight: Consider gaining some weight for better health.\")\n",
    "elif 18.5 <= bmi < 24.9:\n",
    "    print(\"Normal weight: Keep maintaining a healthy lifestyle.\")\n",
    "elif 25 <= bmi < 29.9:\n",
    "    print(\"Overweight: Consider losing some weight for better health.\")\n",
    "else:\n",
    "    print(\"Obese: It's important to focus on weight loss for better health.\")"
   ]
  },
  {
   "cell_type": "code",
   "execution_count": 15,
   "id": "71b1750a-ce22-4374-be8b-bc13a1f79769",
   "metadata": {},
   "outputs": [
    {
     "name": "stdin",
     "output_type": "stream",
     "text": [
      "enter password Karan@12345\n"
     ]
    },
    {
     "name": "stdout",
     "output_type": "stream",
     "text": [
      "Karan@12345 is valid\n"
     ]
    }
   ],
   "source": [
    "# 31. Create a program that validates a password based on complexity rules (length, characters, etc.).\n",
    "import string\n",
    "def passvalid(pswd):\n",
    "    if not(8<=len(pswd)<=15):\n",
    "        return False\n",
    "    if not any(char.islower() for char in pswd):\n",
    "        return False\n",
    "    if not any(char.isupper() for char in pswd):\n",
    "        return False\n",
    "    if not any(char.isdigit() for char in pswd):\n",
    "        return False\n",
    "    if not any(char in string.punctuation for char in pswd):\n",
    "        return False\n",
    "    return True\n",
    "\n",
    "\n",
    "\n",
    "pswd = input(\"enter password\")\n",
    "passvalid(pswd)\n",
    "if passvalid(pswd):\n",
    "    print(f\"{pswd} is valid\")\n",
    "else:\n",
    "    print(f\"{pswd} is invalid\")                            \n",
    "            \n",
    "        "
   ]
  },
  {
   "cell_type": "code",
   "execution_count": 7,
   "id": "ab3034dd-8a71-41aa-a9b3-586cd6bedc37",
   "metadata": {},
   "outputs": [
    {
     "name": "stdin",
     "output_type": "stream",
     "text": [
      "number of rows 2\n",
      "number of columns 2\n",
      "enter value of 0X0 1\n",
      "enter value of 0X1 2\n",
      "enter value of 1X0 3\n",
      "enter value of 1X1 4\n"
     ]
    },
    {
     "name": "stdout",
     "output_type": "stream",
     "text": [
      "\n"
     ]
    },
    {
     "name": "stdin",
     "output_type": "stream",
     "text": [
      "enter value of 0X0 5\n",
      "enter value of 0X1 6\n",
      "enter value of 1X0 7\n",
      "enter value of 1X1 8\n"
     ]
    },
    {
     "name": "stdout",
     "output_type": "stream",
     "text": [
      "[[1, 2], [3, 4]]\n",
      "[[5, 6], [7, 8]]\n"
     ]
    },
    {
     "name": "stdin",
     "output_type": "stream",
     "text": [
      "enter '+' for addition and '-' for substraction of 2 matrices  -\n"
     ]
    },
    {
     "name": "stdout",
     "output_type": "stream",
     "text": [
      "[[-4, -4], [-4, -4]]\n"
     ]
    }
   ],
   "source": [
    "## 32. Develop a program that performs matrix addition and subtraction based on user input.\n",
    "\n",
    "def matrixx(mat,m,n):\n",
    "    mat = []\n",
    "    for i in range(m):\n",
    "        row=[]\n",
    "        for j in range(n):\n",
    "            value= int(input(f\"enter value of {i}X{j}\"))\n",
    "            row.append(value)\n",
    "        mat.append(row)\n",
    "    return mat\n",
    "\n",
    "matA=[]\n",
    "matB=[]\n",
    "m = int(input(\"number of rows\"))\n",
    "n = int(input(\"number of columns\"))\n",
    "\n",
    "matA = matrixx(matA,m,n)\n",
    "print()\n",
    "matB = matrixx(matB,m,n)\n",
    "\n",
    "\n",
    "print(matA)\n",
    "print(matB)\n",
    "\n",
    "operation = input(\"enter '+' for addition and '-' for substraction of 2 matrices \")\n",
    "\n",
    "finalmat = []\n",
    "for i in range(m):\n",
    "    op = []\n",
    "    for j in range(n):\n",
    "        if operation == '+':\n",
    "            add = matA[i][j]+matB[i][j]\n",
    "            op.append(add)\n",
    "        else:\n",
    "            sub = matA[i][j]-matB[i][j]\n",
    "            op.append(sub)\n",
    "    finalmat.append(op)\n",
    "\n",
    "print(finalmat)"
   ]
  },
  {
   "cell_type": "code",
   "execution_count": 20,
   "id": "591c658c-e7f0-4e65-a038-a1270e1f4340",
   "metadata": {},
   "outputs": [
    {
     "name": "stdin",
     "output_type": "stream",
     "text": [
      "enter a 126\n",
      "enter b 356\n"
     ]
    },
    {
     "data": {
      "text/plain": [
       "2"
      ]
     },
     "execution_count": 20,
     "metadata": {},
     "output_type": "execute_result"
    }
   ],
   "source": [
    "# 33. Write a program that calculates the greatest common divisor (GCD) of two numbers using the Euclidean algorithm.\n",
    "\n",
    "def gcd(a, b):\n",
    "    while b :\n",
    "        a,b=b,a%b\n",
    "    return a\n",
    "a= int(input(\"enter a\"))\n",
    "b= int(input(\"enter b\"))\n",
    "gcd(a, b)\n",
    "\n",
    "        "
   ]
  },
  {
   "cell_type": "code",
   "execution_count": 19,
   "id": "31dd5d5a-12e1-415b-b66b-fe15fcf08a99",
   "metadata": {},
   "outputs": [
    {
     "name": "stdin",
     "output_type": "stream",
     "text": [
      "number of rows 2\n",
      "number of columns 2\n",
      "enter value of 0X0 1\n",
      "enter value of 0X1 2\n",
      "enter value of 1X0 3\n",
      "enter value of 1X1 4\n"
     ]
    },
    {
     "name": "stdout",
     "output_type": "stream",
     "text": [
      "\n"
     ]
    },
    {
     "name": "stdin",
     "output_type": "stream",
     "text": [
      "enter value of 0X0 5\n",
      "enter value of 0X1 6\n",
      "enter value of 1X0 7\n",
      "enter value of 1X1 8\n"
     ]
    },
    {
     "name": "stdout",
     "output_type": "stream",
     "text": [
      "[[1, 2], [3, 4]]\n",
      "[[5, 6], [7, 8]]\n",
      "[[5, 12], [21, 32]]\n"
     ]
    }
   ],
   "source": [
    "# 34. Build a program that performs matrix multiplication using nested loops and conditional statements.\n",
    "\n",
    "def matrixx(mat,m,n):\n",
    "    mat = []\n",
    "    for i in range(m):\n",
    "        row=[]\n",
    "        for j in range(n):\n",
    "            value= int(input(f\"enter value of {i}X{j}\"))\n",
    "            row.append(value)\n",
    "        mat.append(row)\n",
    "    return mat\n",
    "\n",
    "matA=[]\n",
    "matB=[]\n",
    "m = int(input(\"number of rows\"))\n",
    "n = int(input(\"number of columns\"))\n",
    "\n",
    "matA = matrixx(matA,m,n)\n",
    "print()\n",
    "matB = matrixx(matB,m,n)\n",
    "\n",
    "\n",
    "print(matA)\n",
    "print(matB)\n",
    "\n",
    "matrixmul = []\n",
    "for i in range(m):\n",
    "    opt = []\n",
    "    for j in range(n):\n",
    "            mul = matA[i][j]*matB[i][j]\n",
    "            opt.append(mul)\n",
    "    matrixmul.append(opt)\n",
    "\n",
    "print(matrixmul)"
   ]
  },
  {
   "cell_type": "code",
   "execution_count": 2,
   "id": "861a8706-b341-4412-a93c-f282d6d41ac9",
   "metadata": {},
   "outputs": [
    {
     "name": "stdout",
     "output_type": "stream",
     "text": [
      "['', '', '']\n",
      "['', '', '']\n",
      "['', '', '']\n"
     ]
    },
    {
     "name": "stdin",
     "output_type": "stream",
     "text": [
      "Enter position number to mark 'O':  0\n"
     ]
    },
    {
     "name": "stdout",
     "output_type": "stream",
     "text": [
      "['O', '', '']\n",
      "['', '', 'X']\n",
      "['', '', '']\n"
     ]
    },
    {
     "name": "stdin",
     "output_type": "stream",
     "text": [
      "Enter position number to mark 'O':  2\n"
     ]
    },
    {
     "name": "stdout",
     "output_type": "stream",
     "text": [
      "['O', 'X', 'O']\n",
      "['', '', 'X']\n",
      "['', '', '']\n"
     ]
    },
    {
     "name": "stdin",
     "output_type": "stream",
     "text": [
      "Enter position number to mark 'O':  5\n"
     ]
    },
    {
     "name": "stdout",
     "output_type": "stream",
     "text": [
      "Enter a correct value between 0 and 8.\n",
      "['O', 'X', 'O']\n",
      "['', '', 'X']\n",
      "['', '', '']\n"
     ]
    },
    {
     "name": "stdin",
     "output_type": "stream",
     "text": [
      "Enter position number to mark 'O':  5\n"
     ]
    },
    {
     "name": "stdout",
     "output_type": "stream",
     "text": [
      "Enter a correct value between 0 and 8.\n",
      "['O', 'X', 'O']\n",
      "['', '', 'X']\n",
      "['', '', '']\n"
     ]
    },
    {
     "name": "stdin",
     "output_type": "stream",
     "text": [
      "Enter position number to mark 'O':  4\n"
     ]
    },
    {
     "name": "stdout",
     "output_type": "stream",
     "text": [
      "['O', 'X', 'O']\n",
      "['', 'O', 'X']\n",
      "['', '', 'X']\n"
     ]
    },
    {
     "name": "stdin",
     "output_type": "stream",
     "text": [
      "Enter position number to mark 'O':  6\n"
     ]
    },
    {
     "name": "stdout",
     "output_type": "stream",
     "text": [
      "['O', 'X', 'O']\n",
      "['', 'O', 'X']\n",
      "['O', '', 'X']\n",
      "You won!\n"
     ]
    }
   ],
   "source": [
    "# 35. Create a program that simulates a basic text-based tic-tac-toe game against the computer.\n",
    "import random\n",
    "\n",
    "def print_board(board):\n",
    "    for i in range(0, 9, 3):\n",
    "        print(board[i:i+3])\n",
    "\n",
    "def check_win(board, player):\n",
    "    # Check rows\n",
    "    for i in range(0, 9, 3):\n",
    "        if all(board[j] == player for j in range(i, i+3)):\n",
    "            return True\n",
    "\n",
    "    # Check columns\n",
    "    for i in range(3):\n",
    "        if all(board[j] == player for j in range(i, 9, 3)):\n",
    "            return True\n",
    "\n",
    "    # Check diagonals\n",
    "    if all(board[i] == player for i in range(0, 9, 4)) or all(board[i] == player for i in range(2, 7, 2)):\n",
    "        return True\n",
    "\n",
    "    return False\n",
    "\n",
    "def ttt():\n",
    "    t = [''] * 9\n",
    "    com = 'X'\n",
    "    u = 'O'\n",
    "    j = 0\n",
    "\n",
    "    while j < 9:\n",
    "        print_board(t)\n",
    "\n",
    "        x = int(input(\"Enter position number to mark 'O': \"))\n",
    "        if 0 <= x < 9 and t[x] == '':\n",
    "            t[x] = u\n",
    "        else:\n",
    "            print(\"Enter a correct value between 0 and 8.\")\n",
    "            continue\n",
    "\n",
    "        if check_win(t, u):\n",
    "            print_board(t)\n",
    "            print(\"You won!\")\n",
    "            break\n",
    "\n",
    "        y = random.randint(0, 8)\n",
    "        while t[y] != '':\n",
    "            y = random.randint(0, 8)\n",
    "        t[y] = com\n",
    "\n",
    "        if check_win(t, com):\n",
    "            print_board(t)\n",
    "            print(\"Computer wins!\")\n",
    "            break\n",
    "\n",
    "        j += 1\n",
    "\n",
    "    if j == 9:\n",
    "        print_board(t)\n",
    "        print(\"It's a tie!\")\n",
    "\n",
    "# Run the game\n",
    "ttt()\n"
   ]
  },
  {
   "cell_type": "code",
   "execution_count": 15,
   "id": "a8ed5866-feab-4464-85e1-c4a888bcd381",
   "metadata": {},
   "outputs": [
    {
     "name": "stdin",
     "output_type": "stream",
     "text": [
      "enter number 10\n"
     ]
    },
    {
     "data": {
      "text/plain": [
       "[0, 1, 1, 2, 3, 5, 8, 13, 21, 34]"
      ]
     },
     "execution_count": 15,
     "metadata": {},
     "output_type": "execute_result"
    }
   ],
   "source": [
    "# 36. Write a program that generates Fibonacci numbers up to a specified term using iterative methods.\n",
    "def fib(n):\n",
    "    f=[0,1]\n",
    "    for i in range(n+1):\n",
    "        t = f[i] + f[i+1]\n",
    "        f.append(t)\n",
    "    return f\n",
    "n = int(input(\"enter number\"))-3\n",
    "fib(n)\n",
    "        "
   ]
  },
  {
   "cell_type": "code",
   "execution_count": 31,
   "id": "08753bfd-7ce5-4ba8-b15a-1723994d97de",
   "metadata": {},
   "outputs": [
    {
     "name": "stdin",
     "output_type": "stream",
     "text": [
      "enter nth term 4\n"
     ]
    },
    {
     "name": "stdout",
     "output_type": "stream",
     "text": [
      "The 4th term of the Fibonacci sequence is: 3\n"
     ]
    }
   ],
   "source": [
    "def fibb(n):\n",
    "    if n <= 1:\n",
    "        return n\n",
    "    return fibb(n-1) + fibb(n-2)\n",
    "\n",
    "# Example: Calculate the 10th term of the Fibonacci sequence\n",
    "n = int(input(\"enter nth term\"))\n",
    "result = fibb(n)\n",
    "print(f\"The {n}th term of the Fibonacci sequence is: {result}\")\n"
   ]
  },
  {
   "cell_type": "code",
   "execution_count": 3,
   "id": "f67812c5-c7ff-440a-b759-69886a686652",
   "metadata": {},
   "outputs": [
    {
     "name": "stdin",
     "output_type": "stream",
     "text": [
      "enter month 2\n",
      "enter year in YYYY 2024\n"
     ]
    },
    {
     "name": "stdout",
     "output_type": "stream",
     "text": [
      "Calendar for 2/2024:\n",
      "Mon  Tue  Wed  Thu  Fri  Sat  Sun\n",
      "                      1   2   3 \n",
      "  4   5   6   7   8   9  10 \n",
      " 11  12  13  14  15  16  17 \n",
      " 18  19  20  21  22  23  24 \n",
      " 25  26  27  28  29 \n"
     ]
    }
   ],
   "source": [
    "# 38. Create a program that generates a calendar for a given month and year using conditional statements.\n",
    "\n",
    "\n",
    "def is_leap_year(year):\n",
    "    \"\"\"\n",
    "    Check if the given year is a leap year.\n",
    "    \"\"\"\n",
    "    if year % 4 == 0:\n",
    "        if year % 100 == 0:\n",
    "            if year % 400 == 0:\n",
    "                return True\n",
    "            else:\n",
    "                return False\n",
    "        else:\n",
    "            return True\n",
    "    else:\n",
    "        return False\n",
    "\n",
    "def get_num_days(month, year):\n",
    "    \"\"\"\n",
    "    Get the number of days in a given month and year.\n",
    "    \"\"\"\n",
    "    if month in {1, 3, 5, 7, 8, 10, 12}:\n",
    "        return 31\n",
    "    elif month in {4, 6, 9, 11}:\n",
    "        return 30\n",
    "    elif month == 2:\n",
    "        if is_leap_year(year):\n",
    "            return 29\n",
    "        else:\n",
    "            return 28\n",
    "    else:\n",
    "        return None\n",
    "\n",
    "def generate_calendar(month, year):\n",
    "    \"\"\"\n",
    "    Generate a calendar for the given month and year.\n",
    "    \"\"\"\n",
    "    days_in_month = get_num_days(month, year)\n",
    "    if days_in_month is None:\n",
    "        print(\"Invalid month\")\n",
    "        return\n",
    "\n",
    "    print(f\"Calendar for {month}/{year}:\")\n",
    "    print(\"Mon  Tue  Wed  Thu  Fri  Sat  Sun\")\n",
    "\n",
    "    # Calculate the day of the week for the first day of the month\n",
    "    # Zeller's Congruence Algorithm\n",
    "    q = 1  # Day of the month\n",
    "    m = (month - 3) % 12 + 1\n",
    "    if m > 10:\n",
    "        year -= 1\n",
    "    K = year % 100\n",
    "    J = year // 100\n",
    "    f = q + ((13*m - 1) // 5) + K + (K // 4) + (J // 4) - (2 * J)\n",
    "    day_of_week = (f % 7 + 7) % 7\n",
    "\n",
    "    # Print the calendar\n",
    "    print(\"     \" * day_of_week, end=\"\")\n",
    "    for day in range(1, days_in_month + 1):\n",
    "        print(f\"{day:3}\", end=\" \")\n",
    "        day_of_week += 1\n",
    "        if day_of_week == 7:\n",
    "            print()\n",
    "            day_of_week = 0\n",
    "    print()\n",
    "\n",
    "\n",
    "month = int(input(\"enter month\"))\n",
    "year = int(input(\"enter year in YYYY\"))\n",
    "generate_calendar(month, year)\n",
    "\n",
    "    \n"
   ]
  },
  {
   "cell_type": "code",
   "execution_count": 10,
   "id": "e7b53d2d-9b8d-42bb-8ad9-9f8e5eb8eb97",
   "metadata": {},
   "outputs": [
    {
     "name": "stdout",
     "output_type": "stream",
     "text": [
      "Welcome to Blackjack!\n",
      "\n",
      "Your hand:\n",
      "2 of Clubs\n",
      "Q of Diamonds\n",
      "\n",
      "Dealer's hand:\n",
      "4 of Diamonds\n"
     ]
    },
    {
     "name": "stdin",
     "output_type": "stream",
     "text": [
      "\n",
      "Do you want to hit or stand? (h/s):  h\n"
     ]
    },
    {
     "name": "stdout",
     "output_type": "stream",
     "text": [
      "\n",
      "Your hand:\n",
      "2 of Clubs\n",
      "Q of Diamonds\n",
      "K of Diamonds\n",
      "Busted! You lose!\n"
     ]
    }
   ],
   "source": [
    "# 39. Build a program that simulates a basic text-based blackjack game against the computer.\n",
    "import random\n",
    "\n",
    "def create_deck():\n",
    "    \"\"\"Create a standard deck of 52 cards.\"\"\"\n",
    "    ranks = ['2', '3', '4', '5', '6', '7', '8', '9', '10', 'J', 'Q', 'K', 'A']\n",
    "    suits = ['Hearts', 'Diamonds', 'Clubs', 'Spades']\n",
    "    deck = [(rank, suit) for rank in ranks for suit in suits]\n",
    "    random.shuffle(deck)\n",
    "    return deck\n",
    "\n",
    "def calculate_hand_value(hand):\n",
    "    \"\"\"Calculate the value of the hand.\"\"\"\n",
    "    value = 0\n",
    "    num_aces = 0\n",
    "    for card in hand:\n",
    "        rank = card[0]\n",
    "        if rank.isdigit():\n",
    "            value += int(rank)\n",
    "        elif rank in ['J', 'Q', 'K']:\n",
    "            value += 10\n",
    "        elif rank == 'A':\n",
    "            num_aces += 1\n",
    "            value += 11\n",
    "    while value > 21 and num_aces:\n",
    "        value -= 10\n",
    "        num_aces -= 1\n",
    "    return value\n",
    "\n",
    "def show_hand(hand):\n",
    "    \"\"\"Display the cards in the hand.\"\"\"\n",
    "    for card in hand:\n",
    "        print(f\"{card[0]} of {card[1]}\")\n",
    "\n",
    "def blackjack():\n",
    "    \"\"\"Simulate a basic text-based blackjack game.\"\"\"\n",
    "    print(\"Welcome to Blackjack!\\n\")\n",
    "\n",
    "    # Create and shuffle deck\n",
    "    deck = create_deck()\n",
    "\n",
    "    # Deal initial hands\n",
    "    player_hand = [deck.pop(), deck.pop()]\n",
    "    dealer_hand = [deck.pop(), deck.pop()]\n",
    "\n",
    "    # Show player's hand and one of the dealer's cards\n",
    "    print(\"Your hand:\")\n",
    "    show_hand(player_hand)\n",
    "    print(\"\\nDealer's hand:\")\n",
    "    print(f\"{dealer_hand[0][0]} of {dealer_hand[0][1]}\")\n",
    "    \n",
    "    # Player's turn\n",
    "    while True:\n",
    "        player_value = calculate_hand_value(player_hand)\n",
    "        if player_value == 21:\n",
    "            print(\"Blackjack! You win!\")\n",
    "            break\n",
    "        elif player_value > 21:\n",
    "            print(\"Busted! You lose!\")\n",
    "            break\n",
    "        else:\n",
    "            action = input(\"\\nDo you want to hit or stand? (h/s): \").lower()\n",
    "            if action == 'h':\n",
    "                player_hand.append(deck.pop())\n",
    "                print(\"\\nYour hand:\")\n",
    "                show_hand(player_hand)\n",
    "            elif action == 's':\n",
    "                break\n",
    "            else:\n",
    "                print(\"Invalid input. Please enter 'h' to hit or 's' to stand.\")\n",
    "\n",
    "    # Dealer's turn\n",
    "    if calculate_hand_value(player_hand) <= 21:\n",
    "        print(\"\\nDealer's turn:\")\n",
    "        print(\"Dealer's hand:\")\n",
    "        show_hand(dealer_hand)\n",
    "        while calculate_hand_value(dealer_hand) < 17:\n",
    "            dealer_hand.append(deck.pop())\n",
    "            print(\"\\nDealer hits:\")\n",
    "            show_hand(dealer_hand)\n",
    "        dealer_value = calculate_hand_value(dealer_hand)\n",
    "        if dealer_value > 21:\n",
    "            print(\"\\nDealer busts! You win!\")\n",
    "        elif dealer_value == 21:\n",
    "            print(\"\\nDealer has blackjack! You lose!\")\n",
    "        elif dealer_value >= calculate_hand_value(player_hand):\n",
    "            print(\"\\nDealer wins!\")\n",
    "        else:\n",
    "            print(\"\\nYou win!\")\n",
    "\n",
    "# Start the game\n",
    "blackjack()\n"
   ]
  },
  {
   "cell_type": "code",
   "execution_count": 9,
   "id": "8bc1ef15-5701-48f7-aee9-14c9b0895de2",
   "metadata": {},
   "outputs": [
    {
     "data": {
      "text/plain": [
       "[2, 5]"
      ]
     },
     "execution_count": 9,
     "metadata": {},
     "output_type": "execute_result"
    }
   ],
   "source": [
    "# 40. Write a program that generates the prime factors of a given number using trial division.\n",
    "def primefactors(n):\n",
    "    return [factor for factor in range(2,n+1) if n%factor==0 and all(factor%i!= 0 for i in range(2,int(factor**0.5)+1)) ]\n",
    "\n",
    "primefactors(40)"
   ]
  }
 ],
 "metadata": {
  "kernelspec": {
   "display_name": "Python 3 (ipykernel)",
   "language": "python",
   "name": "python3"
  },
  "language_info": {
   "codemirror_mode": {
    "name": "ipython",
    "version": 3
   },
   "file_extension": ".py",
   "mimetype": "text/x-python",
   "name": "python",
   "nbconvert_exporter": "python",
   "pygments_lexer": "ipython3",
   "version": "3.10.8"
  }
 },
 "nbformat": 4,
 "nbformat_minor": 5
}
